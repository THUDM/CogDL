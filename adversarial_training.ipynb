{
 "cells": [
  {
   "cell_type": "code",
   "execution_count": 1,
   "metadata": {},
   "outputs": [
    {
     "name": "stderr",
     "output_type": "stream",
     "text": [
      "/home/xu-ll18/miniconda3/envs/ml/lib/python3.9/site-packages/tqdm/auto.py:22: TqdmWarning: IProgress not found. Please update jupyter and ipywidgets. See https://ipywidgets.readthedocs.io/en/stable/user_install.html\n",
      "  from .autonotebook import tqdm as notebook_tqdm\n"
     ]
    }
   ],
   "source": [
    "from cogdl.datasets.grb_data import Cora_GRBDataset\n",
    "from cogdl.utils import set_random_seed\n",
    "from cogdl.utils.grb_utils import evaluate, GCNAdjNorm\n",
    "import copy\n",
    "import torch\n",
    "dataset = Cora_GRBDataset()\n",
    "graph = copy.deepcopy(dataset.get(0))\n",
    "# device = \"cpu\"\n",
    "device = \"cuda:0\"\n",
    "device_ids = [0]\n",
    "graph.to(device)\n",
    "test_mask = graph.test_mask\n",
    "set_random_seed(40)"
   ]
  },
  {
   "cell_type": "code",
   "execution_count": 2,
   "metadata": {},
   "outputs": [
    {
     "name": "stdout",
     "output_type": "stream",
     "text": [
      "GCN(\n",
      "  (layers): ModuleList(\n",
      "    (0): GCNLayer(\n",
      "      (linear): Linear(in_features=302, out_features=64, bias=True)\n",
      "      (dropout): Dropout(p=0.5, inplace=False)\n",
      "      (act): ReLU(inplace=True)\n",
      "    )\n",
      "    (1): GCNLayer(\n",
      "      (linear): Linear(in_features=64, out_features=7, bias=True)\n",
      "    )\n",
      "  )\n",
      ")\n",
      "Model Parameters: 19847\n"
     ]
    },
    {
     "name": "stderr",
     "output_type": "stream",
     "text": [
      "Epoch: 102, train_loss:  0.6244, val_acc:  0.7948:  51%|█████     | 102/200 [00:03<00:03, 27.32it/s]\n"
     ]
    },
    {
     "name": "stdout",
     "output_type": "stream",
     "text": [
      "Saving 53-th model to ./checkpoints/model.pt ...\n",
      "Loading model from ./checkpoints/model.pt ...\n",
      "{'test_acc': 0.7972636815920398, 'val_acc': 0.8097014925373134}\n",
      "Test score before attack for surrogate model: 0.7973.\n"
     ]
    }
   ],
   "source": [
    "# train surrogate model\n",
    "from cogdl.models.nn import GCN\n",
    "from cogdl.trainer import Trainer\n",
    "from cogdl.wrappers import fetch_model_wrapper, fetch_data_wrapper\n",
    "model_sur = GCN(\n",
    "    in_feats=graph.num_features,\n",
    "    hidden_size=64,\n",
    "    out_feats=graph.num_classes,\n",
    "    num_layers=2,\n",
    "    dropout=0.5,\n",
    "    activation=\"relu\"\n",
    ")\n",
    "print(model_sur)\n",
    "mw_class = fetch_model_wrapper(\"node_classification_mw\")\n",
    "dw_class = fetch_data_wrapper(\"node_classification_dw\")\n",
    "optimizer_cfg = dict(\n",
    "                    lr=0.01,\n",
    "                    weight_decay=0\n",
    "                )\n",
    "model_wrapper = mw_class(model_sur, optimizer_cfg)\n",
    "dataset_wrapper = dw_class(dataset)\n",
    "trainer = Trainer(epochs=200,\n",
    "                  early_stopping=True,\n",
    "                  patience=50,\n",
    "                  cpu=device==\"cpu\",\n",
    "                  device_ids=device_ids)\n",
    "trainer.run(model_wrapper, dataset_wrapper)\n",
    "model_sur.load_state_dict(torch.load(\"./checkpoints/model.pt\"), False)\n",
    "model_sur.to(device)\n",
    "test_score = evaluate(model_sur,\n",
    "                      graph,\n",
    "                      mask=test_mask,\n",
    "                      device=device)\n",
    "print(\"Test score before attack for surrogate model: {:.4f}.\".format(test_score))"
   ]
  },
  {
   "cell_type": "code",
   "execution_count": 3,
   "metadata": {},
   "outputs": [],
   "source": [
    "# train target model\n",
    "model_target = GCN(\n",
    "    in_feats=graph.num_features,\n",
    "    hidden_size=64,\n",
    "    out_feats=graph.num_classes,\n",
    "    num_layers=3,\n",
    "    dropout=0.5,\n",
    "    activation=None,\n",
    "    norm=\"layernorm\"\n",
    ")"
   ]
  },
  {
   "cell_type": "code",
   "execution_count": 4,
   "metadata": {},
   "outputs": [],
   "source": [
    "from cogdl.attack.injection import FGSM\n",
    "attack = FGSM(epsilon=0.01,\n",
    "              n_epoch=10,\n",
    "              n_inject_max=10,\n",
    "              n_edge_max=20,\n",
    "              feat_lim_min=-1,\n",
    "              feat_lim_max=1,\n",
    "              device=device,\n",
    "              verbose=False)"
   ]
  },
  {
   "cell_type": "code",
   "execution_count": 5,
   "metadata": {},
   "outputs": [
    {
     "name": "stdout",
     "output_type": "stream",
     "text": [
      "Model Parameters: 24263\n"
     ]
    },
    {
     "name": "stderr",
     "output_type": "stream",
     "text": [
      "  0%|          | 0/200 [00:00<?, ?it/s]\n"
     ]
    },
    {
     "ename": "RuntimeError",
     "evalue": "Expected all tensors to be on the same device, but found at least two devices, cuda:0 and cpu! (when checking argument for argument tensors in method wrapper___cat)",
     "output_type": "error",
     "traceback": [
      "\u001b[0;31m---------------------------------------------------------------------------\u001b[0m",
      "\u001b[0;31mRuntimeError\u001b[0m                              Traceback (most recent call last)",
      "\u001b[1;32m/home/xu-ll18/research/cogdl/adversarial_training.ipynb Cell 5'\u001b[0m in \u001b[0;36m<cell line: 16>\u001b[0;34m()\u001b[0m\n\u001b[1;32m      <a href='vscode-notebook-cell://wsl%2Bubuntu-20.04/home/xu-ll18/research/cogdl/adversarial_training.ipynb#ch0000004vscode-remote?line=7'>8</a>\u001b[0m dataset_wrapper \u001b[39m=\u001b[39m dw_class(dataset)\n\u001b[1;32m      <a href='vscode-notebook-cell://wsl%2Bubuntu-20.04/home/xu-ll18/research/cogdl/adversarial_training.ipynb#ch0000004vscode-remote?line=8'>9</a>\u001b[0m trainer \u001b[39m=\u001b[39m AdvTrainer(epochs\u001b[39m=\u001b[39m\u001b[39m200\u001b[39m,\n\u001b[1;32m     <a href='vscode-notebook-cell://wsl%2Bubuntu-20.04/home/xu-ll18/research/cogdl/adversarial_training.ipynb#ch0000004vscode-remote?line=9'>10</a>\u001b[0m                   early_stopping\u001b[39m=\u001b[39m\u001b[39mTrue\u001b[39;00m,\n\u001b[1;32m     <a href='vscode-notebook-cell://wsl%2Bubuntu-20.04/home/xu-ll18/research/cogdl/adversarial_training.ipynb#ch0000004vscode-remote?line=10'>11</a>\u001b[0m                   patience\u001b[39m=\u001b[39m\u001b[39m50\u001b[39m,\n\u001b[0;32m   (...)\u001b[0m\n\u001b[1;32m     <a href='vscode-notebook-cell://wsl%2Bubuntu-20.04/home/xu-ll18/research/cogdl/adversarial_training.ipynb#ch0000004vscode-remote?line=13'>14</a>\u001b[0m                   attack_mode\u001b[39m=\u001b[39m\u001b[39m\"\u001b[39m\u001b[39minjection\u001b[39m\u001b[39m\"\u001b[39m,\n\u001b[1;32m     <a href='vscode-notebook-cell://wsl%2Bubuntu-20.04/home/xu-ll18/research/cogdl/adversarial_training.ipynb#ch0000004vscode-remote?line=14'>15</a>\u001b[0m                   device_ids\u001b[39m=\u001b[39mdevice_ids)\n\u001b[0;32m---> <a href='vscode-notebook-cell://wsl%2Bubuntu-20.04/home/xu-ll18/research/cogdl/adversarial_training.ipynb#ch0000004vscode-remote?line=15'>16</a>\u001b[0m trainer\u001b[39m.\u001b[39;49mrun(model_wrapper, dataset_wrapper)\n\u001b[1;32m     <a href='vscode-notebook-cell://wsl%2Bubuntu-20.04/home/xu-ll18/research/cogdl/adversarial_training.ipynb#ch0000004vscode-remote?line=16'>17</a>\u001b[0m model_target\u001b[39m.\u001b[39mload_state_dict(torch\u001b[39m.\u001b[39mload(\u001b[39m\"\u001b[39m\u001b[39m./checkpoints/model.pt\u001b[39m\u001b[39m\"\u001b[39m), \u001b[39mFalse\u001b[39;00m)\n\u001b[1;32m     <a href='vscode-notebook-cell://wsl%2Bubuntu-20.04/home/xu-ll18/research/cogdl/adversarial_training.ipynb#ch0000004vscode-remote?line=17'>18</a>\u001b[0m model_target\u001b[39m.\u001b[39mto(device)\n",
      "File \u001b[0;32m~/research/cogdl/cogdl/trainer/adv_trainer.py:194\u001b[0m, in \u001b[0;36mAdvTrainer.run\u001b[0;34m(self, model_w, dataset_w)\u001b[0m\n\u001b[1;32m    <a href='file:///home/xu-ll18/research/cogdl/cogdl/trainer/adv_trainer.py?line=191'>192</a>\u001b[0m     \u001b[39mself\u001b[39m\u001b[39m.\u001b[39mdist_train(model_w, dataset_w)\n\u001b[1;32m    <a href='file:///home/xu-ll18/research/cogdl/cogdl/trainer/adv_trainer.py?line=192'>193</a>\u001b[0m \u001b[39melse\u001b[39;00m:\n\u001b[0;32m--> <a href='file:///home/xu-ll18/research/cogdl/cogdl/trainer/adv_trainer.py?line=193'>194</a>\u001b[0m     \u001b[39mself\u001b[39;49m\u001b[39m.\u001b[39;49mtrain(\u001b[39mself\u001b[39;49m\u001b[39m.\u001b[39;49mdevices[\u001b[39m0\u001b[39;49m], model_w, dataset_w)\n\u001b[1;32m    <a href='file:///home/xu-ll18/research/cogdl/cogdl/trainer/adv_trainer.py?line=194'>195</a>\u001b[0m best_model_w \u001b[39m=\u001b[39m load_model(model_w, \u001b[39mself\u001b[39m\u001b[39m.\u001b[39mcheckpoint_path)\u001b[39m.\u001b[39mto(\u001b[39mself\u001b[39m\u001b[39m.\u001b[39mdevices[\u001b[39m0\u001b[39m])\n\u001b[1;32m    <a href='file:///home/xu-ll18/research/cogdl/cogdl/trainer/adv_trainer.py?line=196'>197</a>\u001b[0m \u001b[39mif\u001b[39;00m \u001b[39mself\u001b[39m\u001b[39m.\u001b[39mno_test:\n",
      "File \u001b[0;32m~/research/cogdl/cogdl/trainer/adv_trainer.py:362\u001b[0m, in \u001b[0;36mAdvTrainer.train\u001b[0;34m(self, rank, model_w, dataset_w)\u001b[0m\n\u001b[1;32m    <a href='file:///home/xu-ll18/research/cogdl/cogdl/trainer/adv_trainer.py?line=359'>360</a>\u001b[0m updateGraph(graph, adj_train, features_attack)\n\u001b[1;32m    <a href='file:///home/xu-ll18/research/cogdl/cogdl/trainer/adv_trainer.py?line=360'>361</a>\u001b[0m graph\u001b[39m.\u001b[39medge_weight \u001b[39m=\u001b[39m torch\u001b[39m.\u001b[39mones(graph\u001b[39m.\u001b[39mnum_edges)\n\u001b[0;32m--> <a href='file:///home/xu-ll18/research/cogdl/cogdl/trainer/adv_trainer.py?line=361'>362</a>\u001b[0m graph\u001b[39m.\u001b[39mtrain_mask \u001b[39m=\u001b[39m torch\u001b[39m.\u001b[39;49mcat((graph\u001b[39m.\u001b[39;49mtrain_mask, torch\u001b[39m.\u001b[39;49mzeros(n_inject, dtype\u001b[39m=\u001b[39;49m\u001b[39mbool\u001b[39;49m)), \u001b[39m0\u001b[39;49m)\n\u001b[1;32m    <a href='file:///home/xu-ll18/research/cogdl/cogdl/trainer/adv_trainer.py?line=362'>363</a>\u001b[0m graph\u001b[39m.\u001b[39mval_mask \u001b[39m=\u001b[39m torch\u001b[39m.\u001b[39mcat((graph\u001b[39m.\u001b[39mval_mask, torch\u001b[39m.\u001b[39mzeros(n_inject, dtype\u001b[39m=\u001b[39m\u001b[39mbool\u001b[39m)), \u001b[39m0\u001b[39m)\n\u001b[1;32m    <a href='file:///home/xu-ll18/research/cogdl/cogdl/trainer/adv_trainer.py?line=363'>364</a>\u001b[0m graph\u001b[39m.\u001b[39mtest_mask \u001b[39m=\u001b[39m torch\u001b[39m.\u001b[39mcat((graph\u001b[39m.\u001b[39mtest_mask, torch\u001b[39m.\u001b[39mzeros(n_inject, dtype\u001b[39m=\u001b[39m\u001b[39mbool\u001b[39m)), \u001b[39m0\u001b[39m)\n",
      "\u001b[0;31mRuntimeError\u001b[0m: Expected all tensors to be on the same device, but found at least two devices, cuda:0 and cpu! (when checking argument for argument tensors in method wrapper___cat)"
     ]
    },
    {
     "ename": "",
     "evalue": "",
     "output_type": "error",
     "traceback": [
      "\u001b[1;31mThe Kernel crashed while executing code in the the current cell or a previous cell. Please review the code in the cell(s) to identify a possible cause of the failure. Click <a href='https://aka.ms/vscodeJupyterKernelCrash'>here</a> for more info. View Jupyter <a href='command:jupyter.viewOutput'>log</a> for further details."
     ]
    }
   ],
   "source": [
    "mw_class = fetch_model_wrapper(\"node_classification_mw\")\n",
    "dw_class = fetch_data_wrapper(\"node_classification_dw\")\n",
    "optimizer_cfg = dict(\n",
    "                    lr=0.01,\n",
    "                    weight_decay=0\n",
    "                )\n",
    "model_wrapper = mw_class(model_target, optimizer_cfg)\n",
    "dataset_wrapper = dw_class(dataset)\n",
    "trainer = Trainer(epochs=200,\n",
    "                  early_stopping=True,\n",
    "                  patience=50,\n",
    "                  cpu=device==\"cpu\",\n",
    "                  attack=attack,\n",
    "                  attack_mode=\"injection\",\n",
    "                  device_ids=device_ids)\n",
    "trainer.run(model_wrapper, dataset_wrapper)\n",
    "model_target.load_state_dict(torch.load(\"./checkpoints/model.pt\"), False)\n",
    "model_target.to(device)\n",
    "test_score = evaluate(model_target,\n",
    "                      graph,\n",
    "                      mask=test_mask,\n",
    "                      device=device)\n",
    "print(\"Test score before attack for target model: {:.4f}.\".format(test_score))"
   ]
  },
  {
   "cell_type": "code",
   "execution_count": 9,
   "metadata": {},
   "outputs": [
    {
     "name": "stderr",
     "output_type": "stream",
     "text": [
      "Epoch 999, Loss: 2.1965, Surrogate test score: 0.0697: 100%|██████████| 1000/1000 [00:39<00:00, 25.43it/s]\n"
     ]
    },
    {
     "name": "stdout",
     "output_type": "stream",
     "text": [
      "Surrogate test score: 0.0697\n",
      "Attack runtime: 39.5276.\n",
      "Graph(x=[2780, 302], y=[2680], edge_index=[2, 50296], edge_attr=[50296])\n",
      "Test score after attack for surrogate model: 0.2488.\n",
      "Test score after attack for target model: 0.3085.\n"
     ]
    }
   ],
   "source": [
    "# FGSM attack\n",
    "from cogdl.attack.injection import FGSM\n",
    "# attack = FGSM(epsilon=0.01,\n",
    "#               n_epoch=1000,\n",
    "#               n_inject_max=100,\n",
    "#               n_edge_max=200,\n",
    "#               feat_lim_min=-1,\n",
    "#               feat_lim_max=1,\n",
    "#               device=device)\n",
    "attack = FGSM(epsilon=0.01,\n",
    "              n_epoch=10,\n",
    "              n_inject_max=10,\n",
    "              n_edge_max=20,\n",
    "              feat_lim_min=-1,\n",
    "              feat_lim_max=1,\n",
    "              device=device,\n",
    "              verbose=False)\n",
    "graph_attack = attack.attack(model=model_sur,\n",
    "                             graph=graph,\n",
    "                             adj_norm_func=GCNAdjNorm)\n",
    "graph_attack.y = graph.y\n",
    "print(graph_attack)\n",
    "\n",
    "# apply injection attack\n",
    "test_score_sur = evaluate(model_sur,\n",
    "                          graph_attack,\n",
    "                          mask=test_mask,\n",
    "                          device=device)\n",
    "print(\"Test score after attack for surrogate model: {:.4f}.\".format(test_score_sur))\n",
    "\n",
    "# transfer to target model\n",
    "test_score_target_attack = evaluate(model_target,\n",
    "                                    graph_attack,\n",
    "                                    mask=test_mask,\n",
    "                                    device=device)\n",
    "print(\"Test score after attack for target model: {:.4f}.\".format(test_score_target_attack))"
   ]
  }
 ],
 "metadata": {
  "interpreter": {
   "hash": "7bcdc9db1565414677fe31e377cccfec9938e45915a2d99c7e155572c310a6eb"
  },
  "kernelspec": {
   "display_name": "Python 3.9.7 ('ml')",
   "language": "python",
   "name": "python3"
  },
  "language_info": {
   "codemirror_mode": {
    "name": "ipython",
    "version": 3
   },
   "file_extension": ".py",
   "mimetype": "text/x-python",
   "name": "python",
   "nbconvert_exporter": "python",
   "pygments_lexer": "ipython3",
   "version": "3.9.7"
  },
  "orig_nbformat": 4
 },
 "nbformat": 4,
 "nbformat_minor": 2
}
