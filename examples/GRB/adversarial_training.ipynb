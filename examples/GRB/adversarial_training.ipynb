{
 "cells": [
  {
   "cell_type": "code",
   "execution_count": 1,
   "metadata": {},
   "outputs": [
    {
     "name": "stderr",
     "output_type": "stream",
     "text": [
      "/home/cenyukuo/anaconda3/envs/py3.7/lib/python3.7/site-packages/tqdm/auto.py:22: TqdmWarning: IProgress not found. Please update jupyter and ipywidgets. See https://ipywidgets.readthedocs.io/en/stable/user_install.html\n",
      "  from .autonotebook import tqdm as notebook_tqdm\n"
     ]
    }
   ],
   "source": [
    "from cogdl.datasets.grb_data import Cora_GRBDataset\n",
    "from cogdl.utils import set_random_seed\n",
    "from cogdl.utils.grb_utils import evaluate, GCNAdjNorm\n",
    "import copy\n",
    "import torch\n",
    "dataset = Cora_GRBDataset()\n",
    "graph = copy.deepcopy(dataset.get(0))\n",
    "# device = \"cpu\"\n",
    "device = \"cuda:0\"\n",
    "device_ids = [0]\n",
    "graph.to(device)\n",
    "test_mask = graph.test_mask\n",
    "set_random_seed(40)"
   ]
  },
  {
   "cell_type": "code",
   "execution_count": 2,
   "metadata": {},
   "outputs": [
    {
     "name": "stdout",
     "output_type": "stream",
     "text": [
      "GCN(\n",
      "  (layers): ModuleList(\n",
      "    (0): GCNLayer(\n",
      "      (linear): Linear(in_features=302, out_features=64, bias=True)\n",
      "      (dropout): Dropout(p=0.5, inplace=False)\n",
      "      (act): ReLU(inplace=True)\n",
      "    )\n",
      "    (1): GCNLayer(\n",
      "      (linear): Linear(in_features=64, out_features=7, bias=True)\n",
      "    )\n",
      "  )\n",
      ")\n",
      "Model Parameters: 19847\n"
     ]
    },
    {
     "name": "stderr",
     "output_type": "stream",
     "text": [
      "Epoch: 200, train_loss:  0.6122, val_acc:  0.7724: 100%|██████████| 200/200 [00:03<00:00, 61.29it/s] \n"
     ]
    },
    {
     "name": "stdout",
     "output_type": "stream",
     "text": [
      "Saving 166-th model to ./checkpoints/model.pt ...\n",
      "Loading model from ./checkpoints/model.pt ...\n",
      "{'test_acc': 0.8022388059701493, 'val_acc': 0.832089552238806}\n",
      "Test score before attack for surrogate model: 0.8022.\n"
     ]
    }
   ],
   "source": [
    "# train surrogate model\n",
    "from cogdl.models.nn import GCN\n",
    "from cogdl.trainer import Trainer\n",
    "from cogdl.wrappers import fetch_model_wrapper, fetch_data_wrapper\n",
    "model_sur = GCN(\n",
    "    in_feats=graph.num_features,\n",
    "    hidden_size=64,\n",
    "    out_feats=graph.num_classes,\n",
    "    num_layers=2,\n",
    "    dropout=0.5,\n",
    "    activation=\"relu\"\n",
    ")\n",
    "print(model_sur)\n",
    "mw_class = fetch_model_wrapper(\"node_classification_mw\")\n",
    "dw_class = fetch_data_wrapper(\"node_classification_dw\")\n",
    "optimizer_cfg = dict(\n",
    "                    lr=0.01,\n",
    "                    weight_decay=0\n",
    "                )\n",
    "model_wrapper = mw_class(model_sur, optimizer_cfg)\n",
    "dataset_wrapper = dw_class(dataset)\n",
    "trainer = Trainer(epochs=200,\n",
    "                  early_stopping=True,\n",
    "                  patience=50,\n",
    "                  cpu=device==\"cpu\",\n",
    "                  device_ids=device_ids)\n",
    "trainer.run(model_wrapper, dataset_wrapper)\n",
    "model_sur.load_state_dict(torch.load(\"./checkpoints/model.pt\"), False)\n",
    "model_sur.to(device)\n",
    "test_score = evaluate(model_sur,\n",
    "                      graph,\n",
    "                      mask=test_mask,\n",
    "                      device=device)\n",
    "print(\"Test score before attack for surrogate model: {:.4f}.\".format(test_score))"
   ]
  },
  {
   "cell_type": "code",
   "execution_count": 3,
   "metadata": {},
   "outputs": [],
   "source": [
    "# train target model\n",
    "model_target = GCN(\n",
    "    in_feats=graph.num_features,\n",
    "    hidden_size=64,\n",
    "    out_feats=graph.num_classes,\n",
    "    num_layers=3,\n",
    "    dropout=0.5,\n",
    "    activation=None,\n",
    "    norm=\"layernorm\"\n",
    ")"
   ]
  },
  {
   "cell_type": "code",
   "execution_count": 4,
   "metadata": {},
   "outputs": [],
   "source": [
    "from cogdl.attack.injection import FGSM\n",
    "attack = FGSM(epsilon=0.01,\n",
    "              n_epoch=10,\n",
    "              n_inject_max=10,\n",
    "              n_edge_max=20,\n",
    "              feat_lim_min=-1,\n",
    "              feat_lim_max=1,\n",
    "              device=device,\n",
    "              verbose=False)"
   ]
  },
  {
   "cell_type": "code",
   "execution_count": 5,
   "metadata": {},
   "outputs": [
    {
     "name": "stdout",
     "output_type": "stream",
     "text": [
      "Model Parameters: 24263\n"
     ]
    },
    {
     "name": "stderr",
     "output_type": "stream",
     "text": [
      "Epoch: 200, train_loss:  0.3831, val_acc:  0.8433: 100%|██████████| 200/200 [02:46<00:00,  1.20it/s]"
     ]
    },
    {
     "name": "stdout",
     "output_type": "stream",
     "text": [
      "Saving 200-th model to ./checkpoints/model.pt ...\n",
      "Loading model from ./checkpoints/model.pt ...\n",
      "{'test_acc': 0.8271144278606966, 'val_acc': 0.8432835820895522}\n",
      "Test score before attack for target model: 0.8271.\n"
     ]
    },
    {
     "name": "stderr",
     "output_type": "stream",
     "text": [
      "\n"
     ]
    }
   ],
   "source": [
    "mw_class = fetch_model_wrapper(\"node_classification_mw\")\n",
    "dw_class = fetch_data_wrapper(\"node_classification_dw\")\n",
    "optimizer_cfg = dict(\n",
    "                    lr=0.01,\n",
    "                    weight_decay=0\n",
    "                )\n",
    "model_wrapper = mw_class(model_target, optimizer_cfg)\n",
    "dataset_wrapper = dw_class(dataset)\n",
    "trainer = Trainer(epochs=200,\n",
    "                  early_stopping=True,\n",
    "                  patience=50,\n",
    "                  cpu=device==\"cpu\",\n",
    "                  attack=attack,\n",
    "                  attack_mode=\"injection\",\n",
    "                  device_ids=device_ids)\n",
    "trainer.run(model_wrapper, dataset_wrapper)\n",
    "model_target.load_state_dict(torch.load(\"./checkpoints/model.pt\"), False)\n",
    "model_target.to(device)\n",
    "test_score = evaluate(model_target,\n",
    "                      graph,\n",
    "                      mask=test_mask,\n",
    "                      device=device)\n",
    "print(\"Test score before attack for target model: {:.4f}.\".format(test_score))"
   ]
  },
  {
   "cell_type": "code",
   "execution_count": 6,
   "metadata": {},
   "outputs": [
    {
     "name": "stdout",
     "output_type": "stream",
     "text": [
      "Graph(x=[2690, 302], y=[2680], edge_index=[2, 10696], edge_attr=[10696])\n",
      "Test score after attack for surrogate model: 0.5896.\n",
      "Test score after attack for target model: 0.6891.\n"
     ]
    }
   ],
   "source": [
    "# FGSM attack\n",
    "from cogdl.attack.injection import FGSM\n",
    "# attack = FGSM(epsilon=0.01,\n",
    "#               n_epoch=1000,\n",
    "#               n_inject_max=100,\n",
    "#               n_edge_max=200,\n",
    "#               feat_lim_min=-1,\n",
    "#               feat_lim_max=1,\n",
    "#               device=device)\n",
    "attack = FGSM(epsilon=0.01,\n",
    "              n_epoch=10,\n",
    "              n_inject_max=10,\n",
    "              n_edge_max=20,\n",
    "              feat_lim_min=-1,\n",
    "              feat_lim_max=1,\n",
    "              device=device,\n",
    "              verbose=False)\n",
    "graph_attack = attack.attack(model=model_sur,\n",
    "                             graph=graph,\n",
    "                             adj_norm_func=GCNAdjNorm)\n",
    "graph_attack.y = graph.y\n",
    "print(graph_attack)\n",
    "\n",
    "# apply injection attack\n",
    "test_score_sur = evaluate(model_sur,\n",
    "                          graph_attack,\n",
    "                          mask=test_mask,\n",
    "                          device=device)\n",
    "print(\"Test score after attack for surrogate model: {:.4f}.\".format(test_score_sur))\n",
    "\n",
    "# transfer to target model\n",
    "test_score_target_attack = evaluate(model_target,\n",
    "                                    graph_attack,\n",
    "                                    mask=test_mask,\n",
    "                                    device=device)\n",
    "print(\"Test score after attack for target model: {:.4f}.\".format(test_score_target_attack))"
   ]
  }
 ],
 "metadata": {
  "kernelspec": {
   "display_name": "Python 3.7.15 ('py3.7')",
   "language": "python",
   "name": "python3"
  },
  "language_info": {
   "codemirror_mode": {
    "name": "ipython",
    "version": 3
   },
   "file_extension": ".py",
   "mimetype": "text/x-python",
   "name": "python",
   "nbconvert_exporter": "python",
   "pygments_lexer": "ipython3",
   "version": "3.7.15"
  },
  "orig_nbformat": 4,
  "vscode": {
   "interpreter": {
    "hash": "2a07135ef6232fa64a7b3415e83937a54d1ac91c6c3c71d177b8b7f431c52dcf"
   }
  }
 },
 "nbformat": 4,
 "nbformat_minor": 2
}
