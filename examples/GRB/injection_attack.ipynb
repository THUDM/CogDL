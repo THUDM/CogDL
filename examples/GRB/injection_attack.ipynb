{
 "cells": [
  {
   "cell_type": "code",
   "execution_count": 1,
   "metadata": {},
   "outputs": [
    {
     "name": "stderr",
     "output_type": "stream",
     "text": [
      "/home/cenyukuo/anaconda3/envs/py3.7/lib/python3.7/site-packages/tqdm/auto.py:22: TqdmWarning: IProgress not found. Please update jupyter and ipywidgets. See https://ipywidgets.readthedocs.io/en/stable/user_install.html\n",
      "  from .autonotebook import tqdm as notebook_tqdm\n"
     ]
    }
   ],
   "source": [
    "from cogdl.datasets.grb_data import Cora_GRBDataset\n",
    "from cogdl.utils import set_random_seed\n",
    "from cogdl.utils.grb_utils import evaluate, GCNAdjNorm\n",
    "import copy\n",
    "import torch\n",
    "dataset = Cora_GRBDataset()\n",
    "graph = copy.deepcopy(dataset.get(0))\n",
    "# device = \"cpu\"\n",
    "device = \"cuda:0\"\n",
    "device_ids = [0]\n",
    "graph.to(device)\n",
    "test_mask = graph.test_mask\n",
    "set_random_seed(40)"
   ]
  },
  {
   "cell_type": "code",
   "execution_count": 2,
   "metadata": {},
   "outputs": [
    {
     "name": "stdout",
     "output_type": "stream",
     "text": [
      "GCN(\n",
      "  (layers): ModuleList(\n",
      "    (0): GCNLayer(\n",
      "      (linear): Linear(in_features=302, out_features=64, bias=True)\n",
      "      (dropout): Dropout(p=0.5, inplace=False)\n",
      "      (act): ReLU(inplace=True)\n",
      "    )\n",
      "    (1): GCNLayer(\n",
      "      (linear): Linear(in_features=64, out_features=7, bias=True)\n",
      "    )\n",
      "  )\n",
      ")\n",
      "Model Parameters: 19847\n"
     ]
    },
    {
     "name": "stderr",
     "output_type": "stream",
     "text": [
      "Epoch: 200, train_loss:  0.6122, val_acc:  0.7724: 100%|██████████| 200/200 [00:03<00:00, 51.84it/s] \n"
     ]
    },
    {
     "name": "stdout",
     "output_type": "stream",
     "text": [
      "Saving 166-th model to ./checkpoints/model.pt ...\n",
      "Loading model from ./checkpoints/model.pt ...\n",
      "{'test_acc': 0.8022388059701493, 'val_acc': 0.832089552238806}\n",
      "Test score before attack for surrogate model: 0.8022.\n"
     ]
    }
   ],
   "source": [
    "# train surrogate model\n",
    "from cogdl.models.nn import GCN\n",
    "from cogdl.trainer import Trainer\n",
    "from cogdl.wrappers import fetch_model_wrapper, fetch_data_wrapper\n",
    "model_sur = GCN(\n",
    "    in_feats=graph.num_features,\n",
    "    hidden_size=64,\n",
    "    out_feats=graph.num_classes,\n",
    "    num_layers=2,\n",
    "    dropout=0.5,\n",
    "    activation=\"relu\"\n",
    ")\n",
    "print(model_sur)\n",
    "mw_class = fetch_model_wrapper(\"node_classification_mw\")\n",
    "dw_class = fetch_data_wrapper(\"node_classification_dw\")\n",
    "optimizer_cfg = dict(\n",
    "                    lr=0.01,\n",
    "                    weight_decay=0\n",
    "                )\n",
    "model_wrapper = mw_class(model_sur, optimizer_cfg)\n",
    "dataset_wrapper = dw_class(dataset)\n",
    "trainer = Trainer(epochs=200,\n",
    "                  early_stopping=True,\n",
    "                  patience=50,\n",
    "                  cpu=device==\"cpu\",\n",
    "                  device_ids=device_ids)\n",
    "trainer.run(model_wrapper, dataset_wrapper)\n",
    "model_sur.load_state_dict(torch.load(\"./checkpoints/model.pt\"), False)\n",
    "model_sur.to(device)\n",
    "test_score = evaluate(model_sur,\n",
    "                      graph,\n",
    "                      mask=test_mask,\n",
    "                      device=device)\n",
    "print(\"Test score before attack for surrogate model: {:.4f}.\".format(test_score))"
   ]
  },
  {
   "cell_type": "code",
   "execution_count": 3,
   "metadata": {},
   "outputs": [
    {
     "name": "stdout",
     "output_type": "stream",
     "text": [
      "Model Parameters: 24263\n"
     ]
    },
    {
     "name": "stderr",
     "output_type": "stream",
     "text": [
      "Epoch: 140, train_loss:  0.3691, val_acc:  0.7910:  70%|███████   | 140/200 [00:01<00:00, 80.70it/s]\n"
     ]
    },
    {
     "name": "stdout",
     "output_type": "stream",
     "text": [
      "Saving 91-th model to ./checkpoints/model.pt ...\n",
      "Loading model from ./checkpoints/model.pt ...\n",
      "{'test_acc': 0.8159203980099502, 'val_acc': 0.8059701492537313}\n",
      "Test score before attack for target model: 0.8159.\n"
     ]
    }
   ],
   "source": [
    "# train target model\n",
    "\n",
    "model_target = GCN(\n",
    "    in_feats=graph.num_features,\n",
    "    hidden_size=64,\n",
    "    out_feats=graph.num_classes,\n",
    "    num_layers=3,\n",
    "    dropout=0.5,\n",
    "    activation=None,\n",
    "    norm=\"layernorm\"\n",
    ")\n",
    "mw_class = fetch_model_wrapper(\"node_classification_mw\")\n",
    "dw_class = fetch_data_wrapper(\"node_classification_dw\")\n",
    "optimizer_cfg = dict(\n",
    "                    lr=0.01,\n",
    "                    weight_decay=0\n",
    "                )\n",
    "model_wrapper = mw_class(model_target, optimizer_cfg)\n",
    "dataset_wrapper = dw_class(dataset)\n",
    "trainer = Trainer(epochs=200,\n",
    "                  early_stopping=True,\n",
    "                  patience=50,\n",
    "                  cpu=device==\"cpu\",\n",
    "                  device_ids=device_ids)\n",
    "trainer.run(model_wrapper, dataset_wrapper)\n",
    "model_target.load_state_dict(torch.load(\"./checkpoints/model.pt\"), False)\n",
    "model_target.to(device)\n",
    "test_score = evaluate(model_target,\n",
    "                      graph,\n",
    "                      mask=test_mask,\n",
    "                      device=device)\n",
    "print(\"Test score before attack for target model: {:.4f}.\".format(test_score))"
   ]
  },
  {
   "cell_type": "code",
   "execution_count": 4,
   "metadata": {},
   "outputs": [
    {
     "name": "stdout",
     "output_type": "stream",
     "text": [
      "SAGE(\n",
      "  (layers): ModuleList(\n",
      "    (0): SAGELayer(\n",
      "      (fc): Linear(in_features=604, out_features=128, bias=True)\n",
      "      (dropout): Dropout(p=0.5, inplace=False)\n",
      "    )\n",
      "    (1): SAGELayer(\n",
      "      (fc): Linear(in_features=256, out_features=7, bias=True)\n",
      "      (dropout): Dropout(p=0.5, inplace=False)\n",
      "    )\n",
      "  )\n",
      ")\n",
      "Model Parameters: 79239\n"
     ]
    },
    {
     "name": "stderr",
     "output_type": "stream",
     "text": [
      "Epoch: 140, train_loss:  1.8881, val_acc:  0.7612:  70%|███████   | 140/200 [00:01<00:00, 117.19it/s]\n"
     ]
    },
    {
     "name": "stdout",
     "output_type": "stream",
     "text": [
      "Saving 91-th model to ./checkpoints/model.pt ...\n",
      "Loading model from ./checkpoints/model.pt ...\n",
      "{'test_acc': 0.7972636815920398, 'val_acc': 0.8246268656716418}\n",
      "Test score before attack for target model: 0.7973.\n"
     ]
    }
   ],
   "source": [
    "# train target model\n",
    "\n",
    "from cogdl.models.nn import SAGE\n",
    "\n",
    "model_target = SAGE(\n",
    "    graph.num_features,\n",
    "    graph.num_classes,\n",
    "    hidden_size=128,\n",
    "    num_layers=2,\n",
    "    dropout=0.5,\n",
    "    norm=None\n",
    ")\n",
    "print(model_target)\n",
    "mw_class = fetch_model_wrapper(\"node_classification_mw\")\n",
    "dw_class = fetch_data_wrapper(\"node_classification_dw\")\n",
    "optimizer_cfg = dict(\n",
    "                    lr=0.01,\n",
    "                    weight_decay=0\n",
    "                )\n",
    "model_wrapper = mw_class(model_target, optimizer_cfg)\n",
    "dataset_wrapper = dw_class(dataset)\n",
    "trainer = Trainer(epochs=200,\n",
    "                  early_stopping=True,\n",
    "                  patience=50,\n",
    "                  cpu=device==\"cpu\",\n",
    "                  device_ids=device_ids)\n",
    "trainer.run(model_wrapper, dataset_wrapper)\n",
    "model_target.load_state_dict(torch.load(\"./checkpoints/model.pt\"), False)\n",
    "model_target.to(device)\n",
    "test_score_target_raw = evaluate(model_target,\n",
    "                                 graph,\n",
    "                                 mask=test_mask,\n",
    "                                 device=device)\n",
    "print(\"Test score before attack for target model: {:.4f}.\".format(test_score_target_raw))"
   ]
  },
  {
   "cell_type": "code",
   "execution_count": 5,
   "metadata": {},
   "outputs": [
    {
     "name": "stderr",
     "output_type": "stream",
     "text": [
      "Epoch 999, Loss: 2.1066, Surrogate test score: 0.0970: 100%|██████████| 1000/1000 [01:36<00:00, 10.35it/s]\n"
     ]
    },
    {
     "name": "stdout",
     "output_type": "stream",
     "text": [
      "Surrogate test score: 0.0970\n",
      "Attack runtime: 96.9449.\n",
      "Test score after attack for surrogate model: 0.1493.\n",
      "Test score after attack for target model: 0.1194.\n"
     ]
    }
   ],
   "source": [
    "# FGSM attack\n",
    "from cogdl.attack.injection import FGSM\n",
    "attack = FGSM(epsilon=0.01,\n",
    "              n_epoch=1000,\n",
    "              n_inject_max=100,\n",
    "              n_edge_max=200,\n",
    "              feat_lim_min=-1,\n",
    "              feat_lim_max=1,\n",
    "              device=device)\n",
    "graph_attack = attack.attack(model=model_sur,\n",
    "                             graph=graph,\n",
    "                             adj_norm_func=GCNAdjNorm)\n",
    "\n",
    "# apply injection attack\n",
    "test_score_sur = evaluate(model_sur,\n",
    "                          graph_attack,\n",
    "                          mask=test_mask,\n",
    "                          device=device)\n",
    "print(\"Test score after attack for surrogate model: {:.4f}.\".format(test_score_sur))\n",
    "\n",
    "# transfer to target model\n",
    "test_score_target_attack = evaluate(model_target,\n",
    "                                    graph_attack,\n",
    "                                    mask=test_mask,\n",
    "                                    device=device)\n",
    "print(\"Test score after attack for target model: {:.4f}.\".format(test_score_target_attack))"
   ]
  },
  {
   "cell_type": "code",
   "execution_count": 6,
   "metadata": {},
   "outputs": [
    {
     "name": "stderr",
     "output_type": "stream",
     "text": [
      "Epoch 999, Loss: 2.1091, Surrogate test score: 0.0970: 100%|██████████| 1000/1000 [01:27<00:00, 11.46it/s]\n"
     ]
    },
    {
     "name": "stdout",
     "output_type": "stream",
     "text": [
      "Surrogate test score: 0.0970\n",
      "Attack runtime: 87.5898.\n",
      "Test score after attack for surrogate model: 0.1953.\n",
      "Test score after attack for target model: 0.1194.\n"
     ]
    }
   ],
   "source": [
    "from cogdl.attack.injection import PGD\n",
    "attack = PGD(epsilon=0.01,\n",
    "              n_epoch=1000,\n",
    "              n_inject_max=100,\n",
    "              n_edge_max=200,\n",
    "              feat_lim_min=-1,\n",
    "              feat_lim_max=1,\n",
    "              device=device)\n",
    "graph_attack = attack.attack(model=model_sur,\n",
    "                             graph=graph,\n",
    "                             adj_norm_func=GCNAdjNorm)\n",
    "\n",
    "# apply injection attack\n",
    "test_score_sur = evaluate(model_sur,\n",
    "                          graph_attack,\n",
    "                          mask=test_mask,\n",
    "                          device=device)\n",
    "print(\"Test score after attack for surrogate model: {:.4f}.\".format(test_score_sur))\n",
    "\n",
    "# transfer to target model\n",
    "test_score_target_attack = evaluate(model_target,\n",
    "                                    graph_attack,\n",
    "                                    mask=test_mask,\n",
    "                                    device=device)\n",
    "print(\"Test score after attack for target model: {:.4f}.\".format(test_score_target_attack))"
   ]
  },
  {
   "cell_type": "code",
   "execution_count": 7,
   "metadata": {},
   "outputs": [
    {
     "name": "stdout",
     "output_type": "stream",
     "text": [
      "Loss: -1.8408, Surrogate test acc: 0.5373\n",
      "Attack runtime: 0.3861.\n",
      "Test score after attack for surrogate model: 0.2575.\n",
      "Test score after attack for target model: 0.3085.\n"
     ]
    }
   ],
   "source": [
    "from cogdl.attack.injection import RAND\n",
    "attack = RAND(n_inject_max=100,\n",
    "              n_edge_max=200,\n",
    "              feat_lim_min=-1,\n",
    "              feat_lim_max=1,\n",
    "              device=device)\n",
    "graph_attack = attack.attack(model=model_sur,\n",
    "                             graph=graph,\n",
    "                             adj_norm_func=GCNAdjNorm)\n",
    "\n",
    "# apply injection attack\n",
    "test_score_sur = evaluate(model_sur,\n",
    "                          graph_attack,\n",
    "                          mask=test_mask,\n",
    "                          device=device)\n",
    "print(\"Test score after attack for surrogate model: {:.4f}.\".format(test_score_sur))\n",
    "\n",
    "# transfer to target model\n",
    "test_score_target_attack = evaluate(model_target,\n",
    "                                    graph_attack,\n",
    "                                    mask=test_mask,\n",
    "                                    device=device)\n",
    "print(\"Test score after attack for target model: {:.4f}.\".format(test_score_target_attack))"
   ]
  },
  {
   "cell_type": "code",
   "execution_count": 8,
   "metadata": {},
   "outputs": [
    {
     "name": "stderr",
     "output_type": "stream",
     "text": [
      "Epoch 999, Loss: -2.1066, Surrogate test score: 0.0970: 100%|██████████| 1000/1000 [01:39<00:00, 10.04it/s]\n"
     ]
    },
    {
     "name": "stdout",
     "output_type": "stream",
     "text": [
      "Surrogate test score: 0.0970\n",
      "Attack runtime: 100.1495.\n",
      "Test score after attack for surrogate model: 0.1692.\n",
      "Test score after attack for target model: 0.1194.\n"
     ]
    }
   ],
   "source": [
    "from cogdl.attack.injection import SPEIT\n",
    "attack = SPEIT(lr=0.02,\n",
    "               n_epoch=1000,\n",
    "               n_inject_max=100,\n",
    "               n_edge_max=200,\n",
    "               feat_lim_min=-1,\n",
    "               feat_lim_max=1,\n",
    "               device=device)\n",
    "graph_attack = attack.attack(model=model_sur,\n",
    "                             graph=graph,\n",
    "                             adj_norm_func=GCNAdjNorm)\n",
    "\n",
    "# apply injection attack\n",
    "test_score_sur = evaluate(model_sur,\n",
    "                          graph_attack,\n",
    "                          mask=test_mask,\n",
    "                          device=device)\n",
    "print(\"Test score after attack for surrogate model: {:.4f}.\".format(test_score_sur))\n",
    "\n",
    "# transfer to target model\n",
    "test_score_target_attack = evaluate(model_target,\n",
    "                                    graph_attack,\n",
    "                                    mask=test_mask,\n",
    "                                    device=device)\n",
    "print(\"Test score after attack for target model: {:.4f}.\".format(test_score_target_attack))"
   ]
  },
  {
   "cell_type": "code",
   "execution_count": 9,
   "metadata": {},
   "outputs": [
    {
     "name": "stdout",
     "output_type": "stream",
     "text": [
      "Attacking: Sequential inject 20/100 nodes\n"
     ]
    },
    {
     "name": "stderr",
     "output_type": "stream",
     "text": [
      "Epoch 999, Loss: 4.8468, Surrogate test score: 0.4391: 100%|██████████| 1000/1000 [01:01<00:00, 16.17it/s]\n"
     ]
    },
    {
     "name": "stdout",
     "output_type": "stream",
     "text": [
      "Attacking: Sequential inject 40/100 nodes\n"
     ]
    },
    {
     "name": "stderr",
     "output_type": "stream",
     "text": [
      "Epoch 999, Loss: 4.2344, Surrogate test score: 0.1853: 100%|██████████| 1000/1000 [01:00<00:00, 16.49it/s]\n"
     ]
    },
    {
     "name": "stdout",
     "output_type": "stream",
     "text": [
      "Attacking: Sequential inject 60/100 nodes\n"
     ]
    },
    {
     "name": "stderr",
     "output_type": "stream",
     "text": [
      "Epoch 999, Loss: 3.9804, Surrogate test score: 0.1381: 100%|██████████| 1000/1000 [01:12<00:00, 13.80it/s]\n"
     ]
    },
    {
     "name": "stdout",
     "output_type": "stream",
     "text": [
      "Attacking: Sequential inject 80/100 nodes\n"
     ]
    },
    {
     "name": "stderr",
     "output_type": "stream",
     "text": [
      "Epoch 999, Loss: 3.8405, Surrogate test score: 0.1182: 100%|██████████| 1000/1000 [01:29<00:00, 11.14it/s]\n"
     ]
    },
    {
     "name": "stdout",
     "output_type": "stream",
     "text": [
      "Attacking: Sequential inject 100/100 nodes\n"
     ]
    },
    {
     "name": "stderr",
     "output_type": "stream",
     "text": [
      "Epoch 999, Loss: 3.7608, Surrogate test score: 0.1095: 100%|██████████| 1000/1000 [01:22<00:00, 12.14it/s]\n"
     ]
    },
    {
     "name": "stdout",
     "output_type": "stream",
     "text": [
      "Attack runtime: 368.9408.\n",
      "Graph(x=[2780, 302], y=[2680], edge_index=[2, 18336], edge_weight=[18336], edge_attr=[18336])\n",
      "Test score after attack for surrogate model: 0.1729.\n",
      "Test score after attack for target model: 0.0995.\n"
     ]
    }
   ],
   "source": [
    "from cogdl.attack.injection import TDGIA\n",
    "attack = TDGIA(lr=0.01,\n",
    "               n_epoch=1000,\n",
    "               n_inject_max=100,\n",
    "               n_edge_max=200,\n",
    "               feat_lim_min=-1,\n",
    "               feat_lim_max=1,\n",
    "               device=device)\n",
    "graph_attack = attack.attack(model=model_sur,\n",
    "                             graph=graph,\n",
    "                             adj_norm_func=GCNAdjNorm)\n",
    "\n",
    "# apply injection attack\n",
    "test_score_sur = evaluate(model_sur,\n",
    "                          graph_attack,\n",
    "                          mask=test_mask,\n",
    "                          device=device)\n",
    "print(graph_attack)\n",
    "print(\"Test score after attack for surrogate model: {:.4f}.\".format(test_score_sur))\n",
    "\n",
    "# transfer to target model\n",
    "test_score_target_attack = evaluate(model_target,\n",
    "                                    graph_attack,\n",
    "                                    mask=test_mask,\n",
    "                                    device=device)\n",
    "print(\"Test score after attack for target model: {:.4f}.\".format(test_score_target_attack))"
   ]
  }
 ],
 "metadata": {
  "kernelspec": {
   "display_name": "Python 3.7.15 ('py3.7')",
   "language": "python",
   "name": "python3"
  },
  "language_info": {
   "codemirror_mode": {
    "name": "ipython",
    "version": 3
   },
   "file_extension": ".py",
   "mimetype": "text/x-python",
   "name": "python",
   "nbconvert_exporter": "python",
   "pygments_lexer": "ipython3",
   "version": "3.7.15"
  },
  "orig_nbformat": 4,
  "vscode": {
   "interpreter": {
    "hash": "2a07135ef6232fa64a7b3415e83937a54d1ac91c6c3c71d177b8b7f431c52dcf"
   }
  }
 },
 "nbformat": 4,
 "nbformat_minor": 2
}
