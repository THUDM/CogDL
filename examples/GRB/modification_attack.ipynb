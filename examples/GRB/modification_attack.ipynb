{
 "cells": [
  {
   "cell_type": "code",
   "execution_count": 1,
   "metadata": {},
   "outputs": [
    {
     "name": "stderr",
     "output_type": "stream",
     "text": [
      "/home/cenyukuo/anaconda3/envs/py3.7/lib/python3.7/site-packages/tqdm/auto.py:22: TqdmWarning: IProgress not found. Please update jupyter and ipywidgets. See https://ipywidgets.readthedocs.io/en/stable/user_install.html\n",
      "  from .autonotebook import tqdm as notebook_tqdm\n"
     ]
    }
   ],
   "source": [
    "from cogdl.datasets.grb_data import Cora_GRBDataset\n",
    "from cogdl.utils import set_random_seed\n",
    "from cogdl.utils.grb_utils import evaluate\n",
    "import copy\n",
    "import torch\n",
    "dataset = Cora_GRBDataset()\n",
    "graph = copy.deepcopy(dataset.get(0))\n",
    "# device = \"cpu\"\n",
    "device = \"cuda:0\"\n",
    "device_ids = [0]\n",
    "graph.to(device)\n",
    "test_mask = graph.test_mask\n",
    "set_random_seed(40)"
   ]
  },
  {
   "cell_type": "code",
   "execution_count": 2,
   "metadata": {},
   "outputs": [
    {
     "name": "stdout",
     "output_type": "stream",
     "text": [
      "GCN(\n",
      "  (layers): ModuleList(\n",
      "    (0): GCNLayer(\n",
      "      (linear): Linear(in_features=302, out_features=64, bias=True)\n",
      "      (dropout): Dropout(p=0.5, inplace=False)\n",
      "    )\n",
      "    (1): GCNLayer(\n",
      "      (linear): Linear(in_features=64, out_features=7, bias=True)\n",
      "    )\n",
      "  )\n",
      ")\n",
      "Model Parameters: 19847\n"
     ]
    },
    {
     "name": "stderr",
     "output_type": "stream",
     "text": [
      "Epoch: 72, train_loss:  4.0586, val_acc:  0.6269:  36%|███▌      | 72/200 [00:03<00:05, 23.56it/s] \n"
     ]
    },
    {
     "name": "stdout",
     "output_type": "stream",
     "text": [
      "Saving 23-th model to ./checkpoints/model.pt ...\n",
      "Loading model from ./checkpoints/model.pt ...\n",
      "{'test_acc': 0.7574626865671642, 'val_acc': 0.7798507462686567}\n",
      "Test score before attack for surrogate model: 0.7575.\n"
     ]
    }
   ],
   "source": [
    "# train surrogate model\n",
    "from cogdl.models.nn import GCN\n",
    "from cogdl.trainer import Trainer\n",
    "from cogdl.wrappers import fetch_model_wrapper, fetch_data_wrapper\n",
    "model = GCN(\n",
    "    in_feats=graph.num_features,\n",
    "    hidden_size=64,\n",
    "    out_feats=graph.num_classes,\n",
    "    num_layers=2,\n",
    "    dropout=0.5,\n",
    "    activation=None\n",
    ")\n",
    "print(model)\n",
    "mw_class = fetch_model_wrapper(\"node_classification_mw\")\n",
    "dw_class = fetch_data_wrapper(\"node_classification_dw\")\n",
    "optimizer_cfg = dict(\n",
    "                    lr=0.01,\n",
    "                    weight_decay=0\n",
    "                )\n",
    "model_wrapper1 = mw_class(model, optimizer_cfg)\n",
    "dataset_wrapper = dw_class(dataset)\n",
    "trainer = Trainer(epochs=200,\n",
    "                  early_stopping=True,\n",
    "                  patience=50,\n",
    "                  cpu=device==\"cpu\",\n",
    "                  device_ids=[0])\n",
    "trainer.run(model_wrapper1, dataset_wrapper)\n",
    "model.load_state_dict(torch.load(\"./checkpoints/model.pt\"), False)\n",
    "model.to(device)\n",
    "test_score = evaluate(model,\n",
    "                      graph,\n",
    "                      mask=test_mask,\n",
    "                      device=device)\n",
    "print(\"Test score before attack for surrogate model: {:.4f}.\".format(test_score))"
   ]
  },
  {
   "cell_type": "code",
   "execution_count": 3,
   "metadata": {},
   "outputs": [
    {
     "name": "stdout",
     "output_type": "stream",
     "text": [
      "GCN(\n",
      "  (layers): ModuleList(\n",
      "    (0): GCNLayer(\n",
      "      (linear): Linear(in_features=302, out_features=64, bias=True)\n",
      "      (dropout): Dropout(p=0.5, inplace=False)\n",
      "      (act): ReLU(inplace=True)\n",
      "    )\n",
      "    (1): GCNLayer(\n",
      "      (linear): Linear(in_features=64, out_features=64, bias=True)\n",
      "      (dropout): Dropout(p=0.5, inplace=False)\n",
      "      (act): ReLU(inplace=True)\n",
      "    )\n",
      "    (2): GCNLayer(\n",
      "      (linear): Linear(in_features=64, out_features=7, bias=True)\n",
      "    )\n",
      "  )\n",
      ")\n",
      "Model Parameters: 24007\n"
     ]
    },
    {
     "name": "stderr",
     "output_type": "stream",
     "text": [
      "Epoch: 138, train_loss:  0.6695, val_acc:  0.7724:  69%|██████▉   | 138/200 [00:01<00:00, 89.14it/s]\n"
     ]
    },
    {
     "name": "stdout",
     "output_type": "stream",
     "text": [
      "Saving 89-th model to ./checkpoints/model.pt ...\n",
      "Loading model from ./checkpoints/model.pt ...\n",
      "{'test_acc': 0.7935323383084577, 'val_acc': 0.7798507462686567}\n",
      "Test score before attack for target model: 0.7935.\n"
     ]
    }
   ],
   "source": [
    "# train target model\n",
    "\n",
    "model_target = GCN(\n",
    "    in_feats=graph.num_features,\n",
    "    hidden_size=64,\n",
    "    out_feats=graph.num_classes,\n",
    "    num_layers=3,\n",
    "    dropout=0.5,\n",
    "    activation=\"relu\"\n",
    ")\n",
    "print(model_target)\n",
    "mw_class = fetch_model_wrapper(\"node_classification_mw\")\n",
    "dw_class = fetch_data_wrapper(\"node_classification_dw\")\n",
    "optimizer_cfg = dict(\n",
    "                    lr=0.01,\n",
    "                    weight_decay=0\n",
    "                )\n",
    "model_wrapper = mw_class(model_target, optimizer_cfg)\n",
    "dataset_wrapper = dw_class(dataset)\n",
    "trainer = Trainer(epochs=200,\n",
    "                  early_stopping=True,\n",
    "                  patience=50,\n",
    "                  cpu=device==\"cpu\",\n",
    "                  device_ids=device_ids)\n",
    "trainer.run(model_wrapper, dataset_wrapper)\n",
    "model_target.load_state_dict(torch.load(\"./checkpoints/model.pt\"), False)\n",
    "model_target.to(device)\n",
    "test_score = evaluate(model_target,\n",
    "                      graph,\n",
    "                      mask=test_mask,\n",
    "                      device=device)\n",
    "print(\"Test score before attack for target model: {:.4f}.\".format(test_score))"
   ]
  },
  {
   "cell_type": "code",
   "execution_count": 4,
   "metadata": {},
   "outputs": [
    {
     "name": "stdout",
     "output_type": "stream",
     "text": [
      "Delete internally......\n"
     ]
    },
    {
     "name": "stderr",
     "output_type": "stream",
     "text": [
      "100%|██████████| 2604/2604 [00:00<00:00, 18842.12it/s]\n"
     ]
    },
    {
     "name": "stdout",
     "output_type": "stream",
     "text": [
      "Connect externally......\n"
     ]
    },
    {
     "name": "stderr",
     "output_type": "stream",
     "text": [
      "100%|██████████| 804/804 [00:00<00:00, 14501.74it/s]\n"
     ]
    },
    {
     "name": "stdout",
     "output_type": "stream",
     "text": [
      "DICE attack finished. 468 edges were removed, 313 edges were connected.\n",
      "After attack, test score of surrogate model: 0.5622\n",
      "After attack, test score of target model: 0.3022\n"
     ]
    }
   ],
   "source": [
    "from cogdl.attack.modification import DICE\n",
    "n_mod_ratio = 0.3\n",
    "ratio_delete = 0.6\n",
    "attack = DICE(int(graph.to_scipy_csr()[test_mask.cpu()].getnnz() * n_mod_ratio),\n",
    "              ratio_delete,\n",
    "              device=device)\n",
    "graph_attack = attack.attack(graph)\n",
    "test_score = evaluate(model, \n",
    "                      graph_attack,\n",
    "                      mask=test_mask,\n",
    "                      device=device)\n",
    "print(\"After attack, test score of surrogate model: {:.4f}\".format(test_score))\n",
    "test_score = evaluate(model_target, \n",
    "                      graph_attack,\n",
    "                      mask=test_mask,\n",
    "                      device=device)\n",
    "print(\"After attack, test score of target model: {:.4f}\".format(test_score))"
   ]
  },
  {
   "cell_type": "code",
   "execution_count": 5,
   "metadata": {},
   "outputs": [
    {
     "name": "stderr",
     "output_type": "stream",
     "text": [
      " 10%|▉         | 260/2680 [00:15<02:26, 16.55it/s]\n"
     ]
    },
    {
     "name": "stdout",
     "output_type": "stream",
     "text": [
      "FGA attack finished. 260 edges were flipped.\n",
      "After attack, test score of surrogate model: 0.7575\n",
      "After attack, test score of surrogate model: 0.7935\n"
     ]
    }
   ],
   "source": [
    "from cogdl.attack.modification import FGA\n",
    "n_mod_ratio = 0.1\n",
    "attack = FGA(int(graph.to_scipy_csr()[test_mask.cpu()].getnnz() * n_mod_ratio),\n",
    "             device=device)\n",
    "graph_attack = attack.attack(model, graph)\n",
    "test_score = evaluate(model, \n",
    "                      graph_attack,\n",
    "                      mask=test_mask,\n",
    "                      device=device)\n",
    "print(\"After attack, test score of surrogate model: {:.4f}\".format(test_score))\n",
    "test_score = evaluate(model_target, \n",
    "                      graph_attack,\n",
    "                      mask=test_mask,\n",
    "                      device=device)\n",
    "print(\"After attack, test score of surrogate model: {:.4f}\".format(test_score))"
   ]
  },
  {
   "cell_type": "code",
   "execution_count": 6,
   "metadata": {},
   "outputs": [
    {
     "name": "stderr",
     "output_type": "stream",
     "text": [
      "  1%|          | 26/2604 [00:00<00:00, 8726.94it/s]\n"
     ]
    },
    {
     "name": "stdout",
     "output_type": "stream",
     "text": [
      "FLIP attack finished. 26 edges were flipped.\n",
      "Graph(x=[2680, 302], y=[2680], edge_index=[2, 10244], edge_attr=[10244])\n",
      "After degree_flip attack, test score of surrogate model: 0.7612\n",
      "After degree_flip attack, test score of target model: 0.5162\n"
     ]
    },
    {
     "name": "stderr",
     "output_type": "stream",
     "text": [
      "  1%|          | 26/2604 [00:00<00:00, 9319.88it/s]\n"
     ]
    },
    {
     "name": "stdout",
     "output_type": "stream",
     "text": [
      "FLIP attack finished. 26 edges were flipped.\n",
      "Graph(x=[2680, 302], y=[2680], edge_index=[2, 10244], edge_attr=[10244])\n",
      "After eigen_flip attack, test score of surrogate model: 0.7624\n",
      "After eigen_flip attack, test score of target model: 0.5149\n"
     ]
    },
    {
     "name": "stderr",
     "output_type": "stream",
     "text": [
      "  1%|          | 26/2604 [00:00<00:00, 10304.44it/s]"
     ]
    },
    {
     "name": "stdout",
     "output_type": "stream",
     "text": [
      "FLIP attack finished. 26 edges were flipped.\n",
      "Graph(x=[2680, 302], y=[2680], edge_index=[2, 10248], edge_attr=[10248])\n",
      "After betweenness_flip attack, test score of surrogate model: 0.7500\n",
      "After betweenness_flip attack, test score of target model: 0.5037\n"
     ]
    },
    {
     "name": "stderr",
     "output_type": "stream",
     "text": [
      "\n"
     ]
    }
   ],
   "source": [
    "from cogdl.attack.modification import FLIP\n",
    "n_mod_ratio = 0.01\n",
    "n_edge_mod = int(graph.to_scipy_csr()[test_mask.cpu()].getnnz() * n_mod_ratio)\n",
    "attacks = {\n",
    "    \"degree_flip\": FLIP(n_edge_mod, flip_type=\"deg\", mode=\"descend\", device=device),   # degree flipping\n",
    "    \"eigen_flip\": FLIP(n_edge_mod, flip_type=\"eigen\", mode=\"descend\", device=device), # eigen flipping\n",
    "    \"betweenness_flip\": FLIP(n_edge_mod, flip_type=\"bet\", mode=\"ascend\", device=device)     # betweenness flipping\n",
    "}\n",
    "for key, attack in attacks.items():\n",
    "    graph_attack = attack.attack(graph)\n",
    "    print(graph_attack)\n",
    "    test_score = evaluate(model, \n",
    "                          graph_attack,\n",
    "                          mask=test_mask,\n",
    "                          device=device)\n",
    "    print(\"After {} attack, test score of surrogate model: {:.4f}\".format(key, test_score))\n",
    "    test_score = evaluate(model_target, \n",
    "                          graph_attack,\n",
    "                          mask=test_mask,\n",
    "                          device=device)\n",
    "    print(\"After {} attack, test score of target model: {:.4f}\".format(key, test_score))"
   ]
  },
  {
   "cell_type": "code",
   "execution_count": 7,
   "metadata": {},
   "outputs": [
    {
     "name": "stderr",
     "output_type": "stream",
     "text": [
      " 10%|▉         | 260/2604 [00:00<00:00, 8343.55it/s]\n"
     ]
    },
    {
     "name": "stdout",
     "output_type": "stream",
     "text": [
      "RAND attack finished. 260 edges were randomly flipped.\n",
      "Graph(x=[2680, 302], y=[2680], edge_index=[2, 9788], edge_attr=[9788])\n",
      "After attack, test score of surrogate model: 0.7388\n",
      "After attack, test score of target model: 0.4776\n"
     ]
    }
   ],
   "source": [
    "from cogdl.attack.modification import RAND\n",
    "n_mod_ratio = 0.1\n",
    "n_edge_mod = int(graph.to_scipy_csr()[test_mask.cpu()].getnnz() * n_mod_ratio)\n",
    "attack = RAND(n_edge_mod, device=device)\n",
    "graph_attack = attack.attack(graph)\n",
    "print(graph_attack)\n",
    "test_score = evaluate(model, \n",
    "                      graph_attack,\n",
    "                      mask=test_mask,\n",
    "                      device=device)\n",
    "print(\"After attack, test score of surrogate model: {:.4f}\".format(test_score))\n",
    "test_score = evaluate(model_target, \n",
    "                      graph_attack,\n",
    "                      mask=test_mask,\n",
    "                      device=device)\n",
    "print(\"After attack, test score of target model: {:.4f}\".format(test_score))"
   ]
  },
  {
   "cell_type": "code",
   "execution_count": 8,
   "metadata": {},
   "outputs": [
    {
     "name": "stderr",
     "output_type": "stream",
     "text": [
      " 10%|▉         | 260/2604 [00:00<00:00, 6274.71it/s]\n"
     ]
    },
    {
     "name": "stdout",
     "output_type": "stream",
     "text": [
      "NEA attack finished. 260 edges were flipped.\n",
      "Graph(x=[2680, 302], y=[2680], edge_index=[2, 9964], edge_attr=[9964])\n",
      "After attack, test score of surrogate model: 0.7363\n",
      "After attack, test score of target model: 0.5299\n"
     ]
    }
   ],
   "source": [
    "from cogdl.attack.modification import NEA\n",
    "n_mod_ratio = 0.1\n",
    "n_edge_mod = int(graph.to_scipy_csr()[test_mask.cpu()].getnnz() * n_mod_ratio)\n",
    "attack = NEA(n_edge_mod, device=device)\n",
    "graph_attack = attack.attack(graph)\n",
    "print(graph_attack)\n",
    "test_score = evaluate(model, \n",
    "                      graph_attack,\n",
    "                      mask=test_mask,\n",
    "                      device=device)\n",
    "print(\"After attack, test score of surrogate model: {:.4f}\".format(test_score))\n",
    "test_score = evaluate(model_target, \n",
    "                      graph_attack,\n",
    "                      mask=test_mask,\n",
    "                      device=device)\n",
    "print(\"After attack, test score of target model: {:.4f}\".format(test_score))"
   ]
  },
  {
   "cell_type": "code",
   "execution_count": 9,
   "metadata": {},
   "outputs": [
    {
     "name": "stderr",
     "output_type": "stream",
     "text": [
      "  1%|          | 26/2604 [00:00<00:00, 10082.46it/s]"
     ]
    },
    {
     "name": "stdout",
     "output_type": "stream",
     "text": [
      "STACK attack finished. 26 edges were flipped.\n",
      "Graph(x=[2680, 302], y=[2680], edge_index=[2, 10248], edge_attr=[10248])\n",
      "After attack, test score of surrogate model: 0.7562\n",
      "After attack, test score of target model: 0.5075\n"
     ]
    },
    {
     "name": "stderr",
     "output_type": "stream",
     "text": [
      "\n"
     ]
    }
   ],
   "source": [
    "from cogdl.attack.modification import STACK\n",
    "n_mod_ratio = 0.01\n",
    "n_edge_mod = int(graph.to_scipy_csr()[test_mask.cpu()].getnnz() * n_mod_ratio)\n",
    "attack = STACK(n_edge_mod, device=device)\n",
    "graph_attack = attack.attack(graph)\n",
    "print(graph_attack)\n",
    "test_score = evaluate(model, \n",
    "                      graph_attack,\n",
    "                      mask=test_mask,\n",
    "                      device=device)\n",
    "print(\"After attack, test score of surrogate model: {:.4f}\".format(test_score))\n",
    "test_score = evaluate(model_target, \n",
    "                      graph_attack,\n",
    "                      mask=test_mask,\n",
    "                      device=device)\n",
    "print(\"After attack, test score of target model: {:.4f}\".format(test_score))"
   ]
  },
  {
   "cell_type": "code",
   "execution_count": 10,
   "metadata": {},
   "outputs": [
    {
     "name": "stderr",
     "output_type": "stream",
     "text": [
      "  1%|          | 28/2604 [00:00<00:00, 5000.45it/s]\n",
      "Epoch 499, Loss: 1.7486, Surrogate test score: 0.7214: 100%|██████████| 500/500 [00:29<00:00, 17.06it/s]\n"
     ]
    },
    {
     "name": "stdout",
     "output_type": "stream",
     "text": [
      "Surrogate test score: 0.7214\n",
      "Attack runtime: 29.3970.\n",
      "Graph(x=[2680, 302], y=[2680], edge_index=[2, 10244], edge_attr=[10244])\n",
      "After attack, test score of surrogate model: 0.6206\n",
      "After attack, test score of target model: 0.4142\n"
     ]
    }
   ],
   "source": [
    "from cogdl.attack.modification import PGD\n",
    "epsilon = 0.1\n",
    "n_epoch = 500\n",
    "n_mod_ratio = 0.01\n",
    "n_node_mod = int(graph.y.shape[0] * n_mod_ratio)\n",
    "n_edge_mod = int(graph.to_scipy_csr()[test_mask.cpu()].getnnz() * n_mod_ratio)\n",
    "feat_lim_min = 0.0\n",
    "feat_lim_max = 1.0\n",
    "early_stop_patience = 200\n",
    "attack = PGD(epsilon,\n",
    "             n_epoch,\n",
    "             n_node_mod,\n",
    "             n_edge_mod,\n",
    "             feat_lim_min,\n",
    "             feat_lim_max,\n",
    "             early_stop_patience=early_stop_patience,\n",
    "             device=device)\n",
    "graph_attack = attack.attack(model, graph)\n",
    "print(graph_attack)\n",
    "test_score = evaluate(model, \n",
    "                      graph_attack,\n",
    "                      mask=test_mask,\n",
    "                      device=device)\n",
    "print(\"After attack, test score of surrogate model: {:.4f}\".format(test_score))\n",
    "test_score = evaluate(model_target, \n",
    "                      graph_attack,\n",
    "                      mask=test_mask,\n",
    "                      device=device)\n",
    "print(\"After attack, test score of target model: {:.4f}\".format(test_score))"
   ]
  },
  {
   "cell_type": "code",
   "execution_count": 11,
   "metadata": {},
   "outputs": [
    {
     "name": "stderr",
     "output_type": "stream",
     "text": [
      "/home/cenyukuo/cogdl/cogdl/attack/modification/prbcd.py:420: UserWarning: __floordiv__ is deprecated, and its behavior will change in a future version of pytorch. It currently rounds toward 0 (like the 'trunc' function NOT 'floor'). This results in incorrect rounding for negative values. To keep the current behavior, use torch.div(a, b, rounding_mode='trunc'), or for actual floor division, use torch.div(a, b, rounding_mode='floor').\n",
      "  col_idx = lin_idx + row_idx + 1 - n * (n - 1) // 2 + (n - row_idx) * ((n - row_idx) - 1) // 2\n",
      "Epoch 499, Loss: 0.0130, Surrogate test score: 0.4689: 100%|██████████| 500/500 [33:42<00:00,  4.05s/it]\n"
     ]
    },
    {
     "name": "stdout",
     "output_type": "stream",
     "text": [
      "Surrogate test score: inf\n",
      "Loading search space of epoch -inf\n",
      "\n",
      "Attack runtime: 2039.3314.\n",
      "Graph(x=[2680, 302], y=[2680], edge_index=[2, 10348], edge_attr=[10348])\n",
      "After attack, test score of surrogate model: 0.6430\n",
      "After attack, test score of target model: 0.4241\n"
     ]
    }
   ],
   "source": [
    "from cogdl.attack.modification import PRBCD\n",
    "device=\"cpu\"\n",
    "epsilon = 0.3\n",
    "n_epoch = 500\n",
    "n_mod_ratio = 0.01\n",
    "n_node_mod = int(graph.y.shape[0] * n_mod_ratio)\n",
    "n_edge_mod = int(graph.to_scipy_csr()[test_mask.cpu()].getnnz() * n_mod_ratio)\n",
    "feat_lim_min = 0.0\n",
    "feat_lim_max = 1.0\n",
    "early_stop_patience = 200\n",
    "early_stop_epsilon = 0.001\n",
    "attack = PRBCD(epsilon,\n",
    "              n_epoch,\n",
    "              n_node_mod,\n",
    "              n_edge_mod,\n",
    "              feat_lim_min,\n",
    "              feat_lim_max,\n",
    "              early_stop_patience=early_stop_patience,\n",
    "              early_stop_epsilon=early_stop_epsilon,\n",
    "              device=device)\n",
    "graph_attack = attack.attack(model, graph)\n",
    "print(graph_attack)\n",
    "test_score = evaluate(model, \n",
    "                      graph_attack,\n",
    "                      mask=test_mask,\n",
    "                      device=device)\n",
    "print(\"After attack, test score of surrogate model: {:.4f}\".format(test_score))\n",
    "test_score = evaluate(model_target, \n",
    "                      graph_attack,\n",
    "                      mask=test_mask,\n",
    "                      device=device)\n",
    "print(\"After attack, test score of target model: {:.4f}\".format(test_score))"
   ]
  }
 ],
 "metadata": {
  "kernelspec": {
   "display_name": "Python 3.7.15 ('py3.7')",
   "language": "python",
   "name": "python3"
  },
  "language_info": {
   "codemirror_mode": {
    "name": "ipython",
    "version": 3
   },
   "file_extension": ".py",
   "mimetype": "text/x-python",
   "name": "python",
   "nbconvert_exporter": "python",
   "pygments_lexer": "ipython3",
   "version": "3.7.15"
  },
  "orig_nbformat": 4,
  "vscode": {
   "interpreter": {
    "hash": "2a07135ef6232fa64a7b3415e83937a54d1ac91c6c3c71d177b8b7f431c52dcf"
   }
  }
 },
 "nbformat": 4,
 "nbformat_minor": 2
}
