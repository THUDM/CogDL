{
  "cells": [
    {
      "cell_type": "markdown",
      "metadata": {
        "id": "gHoQThpObPSq"
      },
      "source": [
        "**CogDL Colab**\n",
        "created by CogDL Team\n",
        "[cogdlteam@gmail.com]\n",
        "\n",
        "This colab shows the basic usages of CogDL.\n",
        "\n",
        "References: https://github.com/THUDM/CogDL\n"
      ]
    },
    {
      "cell_type": "code",
      "execution_count": 1,
      "metadata": {
        "colab": {
          "base_uri": "https://localhost:8080/"
        },
        "id": "iBGhvG4U9JBm",
        "outputId": "bfb71b05-d057-418c-c61e-507e50de06de"
      },
      "outputs": [
        {
          "name": "stdout",
          "output_type": "stream",
          "text": [
            "Looking in indexes: https://pypi.tuna.tsinghua.edu.cn/simple\n",
            "Requirement already satisfied: cogdl in /home/yukuo/cogdl (0.5.0a1)\n",
            "Requirement already satisfied: torch in /home/yukuo/anaconda3/envs/cu102/lib/python3.7/site-packages (from cogdl) (1.8.1)\n",
            "Requirement already satisfied: networkx in /home/yukuo/anaconda3/envs/cu102/lib/python3.7/site-packages (from cogdl) (2.5.1)\n",
            "Requirement already satisfied: matplotlib in /home/yukuo/anaconda3/envs/cu102/lib/python3.7/site-packages (from cogdl) (3.4.2)\n",
            "Requirement already satisfied: tqdm in /home/yukuo/anaconda3/envs/cu102/lib/python3.7/site-packages (from cogdl) (4.62.2)\n",
            "Requirement already satisfied: numpy<1.21,>=1.17 in /home/yukuo/anaconda3/envs/cu102/lib/python3.7/site-packages (from cogdl) (1.20.1)\n",
            "Requirement already satisfied: scipy in /home/yukuo/anaconda3/envs/cu102/lib/python3.7/site-packages (from cogdl) (1.6.3)\n",
            "Requirement already satisfied: gensim<4.0 in /home/yukuo/anaconda3/envs/cu102/lib/python3.7/site-packages (from cogdl) (3.8.0)\n",
            "Requirement already satisfied: grave in /home/yukuo/anaconda3/envs/cu102/lib/python3.7/site-packages (from cogdl) (0.0.3)\n",
            "Requirement already satisfied: scikit_learn in /home/yukuo/anaconda3/envs/cu102/lib/python3.7/site-packages (from cogdl) (0.24.2)\n",
            "Requirement already satisfied: tabulate in /home/yukuo/anaconda3/envs/cu102/lib/python3.7/site-packages (from cogdl) (0.8.9)\n",
            "Requirement already satisfied: optuna==2.4.0 in /home/yukuo/anaconda3/envs/cu102/lib/python3.7/site-packages (from cogdl) (2.4.0)\n",
            "Requirement already satisfied: ogb in /home/yukuo/anaconda3/envs/cu102/lib/python3.7/site-packages (from cogdl) (1.3.2)\n",
            "Requirement already satisfied: pre-commit in /home/yukuo/anaconda3/envs/cu102/lib/python3.7/site-packages (from cogdl) (2.12.1)\n",
            "Requirement already satisfied: flake8 in /home/yukuo/anaconda3/envs/cu102/lib/python3.7/site-packages (from cogdl) (3.9.2)\n",
            "Requirement already satisfied: numba in /home/yukuo/anaconda3/envs/cu102/lib/python3.7/site-packages (from cogdl) (0.53.1)\n",
            "Requirement already satisfied: ninja in /home/yukuo/anaconda3/envs/cu102/lib/python3.7/site-packages (from cogdl) (1.10.2.2)\n",
            "Requirement already satisfied: transformers in /home/yukuo/anaconda3/envs/cu102/lib/python3.7/site-packages (from cogdl) (4.5.1)\n",
            "Requirement already satisfied: sentencepiece in /home/yukuo/anaconda3/envs/cu102/lib/python3.7/site-packages (from cogdl) (0.1.95)\n",
            "Requirement already satisfied: alembic in /home/yukuo/anaconda3/envs/cu102/lib/python3.7/site-packages (from optuna==2.4.0->cogdl) (1.6.2)\n",
            "Requirement already satisfied: packaging>=20.0 in /home/yukuo/anaconda3/envs/cu102/lib/python3.7/site-packages (from optuna==2.4.0->cogdl) (20.9)\n",
            "Requirement already satisfied: colorlog in /home/yukuo/anaconda3/envs/cu102/lib/python3.7/site-packages (from optuna==2.4.0->cogdl) (5.0.1)\n",
            "Requirement already satisfied: cmaes>=0.6.0 in /home/yukuo/anaconda3/envs/cu102/lib/python3.7/site-packages (from optuna==2.4.0->cogdl) (0.8.2)\n",
            "Requirement already satisfied: joblib in /home/yukuo/anaconda3/envs/cu102/lib/python3.7/site-packages (from optuna==2.4.0->cogdl) (1.0.1)\n",
            "Requirement already satisfied: cliff in /home/yukuo/anaconda3/envs/cu102/lib/python3.7/site-packages (from optuna==2.4.0->cogdl) (3.7.0)\n",
            "Requirement already satisfied: sqlalchemy>=1.1.0 in /home/yukuo/anaconda3/envs/cu102/lib/python3.7/site-packages (from optuna==2.4.0->cogdl) (1.4.15)\n",
            "Requirement already satisfied: smart-open>=1.7.0 in /home/yukuo/anaconda3/envs/cu102/lib/python3.7/site-packages (from gensim<4.0->cogdl) (5.0.0)\n",
            "Requirement already satisfied: six>=1.5.0 in /home/yukuo/anaconda3/envs/cu102/lib/python3.7/site-packages (from gensim<4.0->cogdl) (1.15.0)\n",
            "Requirement already satisfied: pyparsing>=2.0.2 in /home/yukuo/anaconda3/envs/cu102/lib/python3.7/site-packages (from packaging>=20.0->optuna==2.4.0->cogdl) (2.4.7)\n",
            "Requirement already satisfied: greenlet!=0.4.17 in /home/yukuo/anaconda3/envs/cu102/lib/python3.7/site-packages (from sqlalchemy>=1.1.0->optuna==2.4.0->cogdl) (1.1.0)\n",
            "Requirement already satisfied: importlib-metadata in /home/yukuo/anaconda3/envs/cu102/lib/python3.7/site-packages (from sqlalchemy>=1.1.0->optuna==2.4.0->cogdl) (4.0.1)\n",
            "Requirement already satisfied: python-dateutil in /home/yukuo/anaconda3/envs/cu102/lib/python3.7/site-packages (from alembic->optuna==2.4.0->cogdl) (2.8.1)\n",
            "Requirement already satisfied: python-editor>=0.3 in /home/yukuo/anaconda3/envs/cu102/lib/python3.7/site-packages (from alembic->optuna==2.4.0->cogdl) (1.0.4)\n",
            "Requirement already satisfied: Mako in /home/yukuo/anaconda3/envs/cu102/lib/python3.7/site-packages (from alembic->optuna==2.4.0->cogdl) (1.1.4)\n",
            "Requirement already satisfied: PrettyTable>=0.7.2 in /home/yukuo/anaconda3/envs/cu102/lib/python3.7/site-packages (from cliff->optuna==2.4.0->cogdl) (2.1.0)\n",
            "Requirement already satisfied: stevedore>=2.0.1 in /home/yukuo/anaconda3/envs/cu102/lib/python3.7/site-packages (from cliff->optuna==2.4.0->cogdl) (3.3.0)\n",
            "Requirement already satisfied: cmd2>=1.0.0 in /home/yukuo/anaconda3/envs/cu102/lib/python3.7/site-packages (from cliff->optuna==2.4.0->cogdl) (1.5.0)\n",
            "Requirement already satisfied: pbr!=2.1.0,>=2.0.0 in /home/yukuo/anaconda3/envs/cu102/lib/python3.7/site-packages (from cliff->optuna==2.4.0->cogdl) (5.6.0)\n",
            "Requirement already satisfied: PyYAML>=3.12 in /home/yukuo/anaconda3/envs/cu102/lib/python3.7/site-packages (from cliff->optuna==2.4.0->cogdl) (5.4.1)\n",
            "Requirement already satisfied: wcwidth>=0.1.7 in /home/yukuo/anaconda3/envs/cu102/lib/python3.7/site-packages (from cmd2>=1.0.0->cliff->optuna==2.4.0->cogdl) (0.2.5)\n",
            "Requirement already satisfied: attrs>=16.3.0 in /home/yukuo/anaconda3/envs/cu102/lib/python3.7/site-packages (from cmd2>=1.0.0->cliff->optuna==2.4.0->cogdl) (21.2.0)\n",
            "Requirement already satisfied: colorama>=0.3.7 in /home/yukuo/anaconda3/envs/cu102/lib/python3.7/site-packages (from cmd2>=1.0.0->cliff->optuna==2.4.0->cogdl) (0.4.4)\n",
            "Requirement already satisfied: pyperclip>=1.6 in /home/yukuo/anaconda3/envs/cu102/lib/python3.7/site-packages (from cmd2>=1.0.0->cliff->optuna==2.4.0->cogdl) (1.8.2)\n",
            "Requirement already satisfied: zipp>=0.5 in /home/yukuo/anaconda3/envs/cu102/lib/python3.7/site-packages (from importlib-metadata->sqlalchemy>=1.1.0->optuna==2.4.0->cogdl) (3.4.1)\n",
            "Requirement already satisfied: typing-extensions>=3.6.4 in /home/yukuo/anaconda3/envs/cu102/lib/python3.7/site-packages (from importlib-metadata->sqlalchemy>=1.1.0->optuna==2.4.0->cogdl) (3.7.4.3)\n",
            "Requirement already satisfied: pycodestyle<2.8.0,>=2.7.0 in /home/yukuo/anaconda3/envs/cu102/lib/python3.7/site-packages (from flake8->cogdl) (2.7.0)\n",
            "Requirement already satisfied: pyflakes<2.4.0,>=2.3.0 in /home/yukuo/anaconda3/envs/cu102/lib/python3.7/site-packages (from flake8->cogdl) (2.3.1)\n",
            "Requirement already satisfied: mccabe<0.7.0,>=0.6.0 in /home/yukuo/anaconda3/envs/cu102/lib/python3.7/site-packages (from flake8->cogdl) (0.6.1)\n",
            "Requirement already satisfied: MarkupSafe>=0.9.2 in /home/yukuo/anaconda3/envs/cu102/lib/python3.7/site-packages (from Mako->alembic->optuna==2.4.0->cogdl) (2.0.1)\n",
            "Requirement already satisfied: cycler>=0.10 in /home/yukuo/anaconda3/envs/cu102/lib/python3.7/site-packages (from matplotlib->cogdl) (0.10.0)\n",
            "Requirement already satisfied: pillow>=6.2.0 in /home/yukuo/anaconda3/envs/cu102/lib/python3.7/site-packages (from matplotlib->cogdl) (8.2.0)\n",
            "Requirement already satisfied: kiwisolver>=1.0.1 in /home/yukuo/anaconda3/envs/cu102/lib/python3.7/site-packages (from matplotlib->cogdl) (1.3.1)\n",
            "Requirement already satisfied: decorator<5,>=4.3 in /home/yukuo/anaconda3/envs/cu102/lib/python3.7/site-packages (from networkx->cogdl) (4.4.2)\n",
            "Requirement already satisfied: setuptools in /home/yukuo/anaconda3/envs/cu102/lib/python3.7/site-packages (from numba->cogdl) (57.4.0)\n",
            "Requirement already satisfied: llvmlite<0.37,>=0.36.0rc1 in /home/yukuo/anaconda3/envs/cu102/lib/python3.7/site-packages (from numba->cogdl) (0.36.0)\n",
            "Requirement already satisfied: pandas>=0.24.0 in /home/yukuo/anaconda3/envs/cu102/lib/python3.7/site-packages (from ogb->cogdl) (1.2.4)\n",
            "Requirement already satisfied: outdated>=0.2.0 in /home/yukuo/anaconda3/envs/cu102/lib/python3.7/site-packages (from ogb->cogdl) (0.2.1)\n",
            "Requirement already satisfied: urllib3>=1.24.0 in /home/yukuo/anaconda3/envs/cu102/lib/python3.7/site-packages (from ogb->cogdl) (1.26.4)\n",
            "Requirement already satisfied: requests in /home/yukuo/anaconda3/envs/cu102/lib/python3.7/site-packages (from outdated>=0.2.0->ogb->cogdl) (2.25.1)\n",
            "Requirement already satisfied: littleutils in /home/yukuo/anaconda3/envs/cu102/lib/python3.7/site-packages (from outdated>=0.2.0->ogb->cogdl) (0.2.2)\n",
            "Requirement already satisfied: pytz>=2017.3 in /home/yukuo/anaconda3/envs/cu102/lib/python3.7/site-packages (from pandas>=0.24.0->ogb->cogdl) (2021.1)\n",
            "Requirement already satisfied: threadpoolctl>=2.0.0 in /home/yukuo/anaconda3/envs/cu102/lib/python3.7/site-packages (from scikit_learn->cogdl) (2.1.0)\n",
            "Requirement already satisfied: cfgv>=2.0.0 in /home/yukuo/anaconda3/envs/cu102/lib/python3.7/site-packages (from pre-commit->cogdl) (3.2.0)\n",
            "Requirement already satisfied: toml in /home/yukuo/anaconda3/envs/cu102/lib/python3.7/site-packages (from pre-commit->cogdl) (0.10.2)\n",
            "Requirement already satisfied: nodeenv>=0.11.1 in /home/yukuo/anaconda3/envs/cu102/lib/python3.7/site-packages (from pre-commit->cogdl) (1.6.0)\n",
            "Requirement already satisfied: virtualenv>=20.0.8 in /home/yukuo/anaconda3/envs/cu102/lib/python3.7/site-packages (from pre-commit->cogdl) (20.4.6)\n",
            "Requirement already satisfied: identify>=1.0.0 in /home/yukuo/anaconda3/envs/cu102/lib/python3.7/site-packages (from pre-commit->cogdl) (2.2.4)\n",
            "Requirement already satisfied: filelock<4,>=3.0.0 in /home/yukuo/anaconda3/envs/cu102/lib/python3.7/site-packages (from virtualenv>=20.0.8->pre-commit->cogdl) (3.0.12)\n",
            "Requirement already satisfied: distlib<1,>=0.3.1 in /home/yukuo/anaconda3/envs/cu102/lib/python3.7/site-packages (from virtualenv>=20.0.8->pre-commit->cogdl) (0.3.1)\n",
            "Requirement already satisfied: appdirs<2,>=1.4.3 in /home/yukuo/anaconda3/envs/cu102/lib/python3.7/site-packages (from virtualenv>=20.0.8->pre-commit->cogdl) (1.4.4)\n",
            "Requirement already satisfied: idna<3,>=2.5 in /home/yukuo/anaconda3/envs/cu102/lib/python3.7/site-packages (from requests->outdated>=0.2.0->ogb->cogdl) (2.10)\n",
            "Requirement already satisfied: certifi>=2017.4.17 in /home/yukuo/anaconda3/envs/cu102/lib/python3.7/site-packages (from requests->outdated>=0.2.0->ogb->cogdl) (2020.12.5)\n",
            "Requirement already satisfied: chardet<5,>=3.0.2 in /home/yukuo/anaconda3/envs/cu102/lib/python3.7/site-packages (from requests->outdated>=0.2.0->ogb->cogdl) (4.0.0)\n",
            "Requirement already satisfied: tokenizers<0.11,>=0.10.1 in /home/yukuo/anaconda3/envs/cu102/lib/python3.7/site-packages (from transformers->cogdl) (0.10.2)\n",
            "Requirement already satisfied: sacremoses in /home/yukuo/anaconda3/envs/cu102/lib/python3.7/site-packages (from transformers->cogdl) (0.0.45)\n",
            "Requirement already satisfied: regex!=2019.12.17 in /home/yukuo/anaconda3/envs/cu102/lib/python3.7/site-packages (from transformers->cogdl) (2021.4.4)\n",
            "Requirement already satisfied: click in /home/yukuo/anaconda3/envs/cu102/lib/python3.7/site-packages (from sacremoses->transformers->cogdl) (7.1.2)\n"
          ]
        }
      ],
      "source": [
        "#@title install cogdl via pip\n",
        "\n",
        "!pip install cogdl"
      ]
    },
    {
      "cell_type": "code",
      "execution_count": 2,
      "metadata": {
        "colab": {
          "base_uri": "https://localhost:8080/"
        },
        "id": "GOdtm6g_HgRx",
        "outputId": "49a43cfd-c69d-4b9b-ee66-ca403a96c254"
      },
      "outputs": [
        {
          "name": "stdout",
          "output_type": "stream",
          "text": [
            "Namespace(activation='relu', actnn=False, checkpoint_path='./checkpoints/model.pt', cpu=False, cpu_inference=False, dataset=['cora'], devices=[0], distributed=False, dropout=0.5, dw='node_classification_dw', epochs=500, eval_step=1, hidden_size=64, load_emb_path=None, local_rank=0, log_path='.', logger=None, lr=0.01, master_addr='localhost', master_port=13425, max_epoch=None, model=['gcn'], mw='node_classification_mw', n_trials=3, n_warmup_steps=0, no_test=False, norm=None, nstage=1, num_classes=None, num_features=None, num_layers=2, patience=100, progress_bar='epoch', project='cogdl-exp', residual=False, resume_training=False, rp_ratio=1, save_emb_path=None, seed=[1], split=[0], unsup=False, use_best_config=False, weight_decay=0)\n",
            " \n",
            "|----------------------------------------------------------------------------------------|\n",
            "    *** Running (`cora`, `gcn`, `node_classification_dw`, `node_classification_mw`)\n",
            "|----------------------------------------------------------------------------------------|\n",
            "Model Parameters: 92231\n"
          ]
        },
        {
          "name": "stderr",
          "output_type": "stream",
          "text": [
            "Epoch: 146, train_loss:  0.0109, val_acc:  0.7860:  29%|██▉       | 147/500 [00:02<00:05, 66.46it/s] \n"
          ]
        },
        {
          "name": "stdout",
          "output_type": "stream",
          "text": [
            "Saving 47-th model to ./checkpoints/model.pt ...\n",
            "Loading model from ./checkpoints/model.pt ...\n",
            "{'test_acc': 0.817, 'val_acc': 0.798}\n",
            "| Variant         | test_acc      | val_acc       |\n",
            "|-----------------|---------------|---------------|\n",
            "| ('cora', 'gcn') | 0.8170±0.0000 | 0.7980±0.0000 |\n"
          ]
        },
        {
          "data": {
            "text/plain": [
              "defaultdict(list, {('cora', 'gcn'): [{'test_acc': 0.817, 'val_acc': 0.798}]})"
            ]
          },
          "execution_count": 2,
          "metadata": {},
          "output_type": "execute_result"
        }
      ],
      "source": [
        "from cogdl import experiment\n",
        "\n",
        "# basic usage\n",
        "experiment(dataset=\"cora\", model=\"gcn\")"
      ]
    },
    {
      "cell_type": "code",
      "execution_count": 3,
      "metadata": {
        "colab": {
          "base_uri": "https://localhost:8080/"
        },
        "id": "0LJEBddNX9aA",
        "outputId": "a676c914-29f2-4896-a3f5-130819328699"
      },
      "outputs": [
        {
          "name": "stderr",
          "output_type": "stream",
          "text": [
            "\u001b[32m[I 2021-11-20 22:49:00,335]\u001b[0m A new study created in memory with name: no-name-9dd402de-0057-4957-a224-90f5f9f5fda1\u001b[0m\n"
          ]
        },
        {
          "name": "stdout",
          "output_type": "stream",
          "text": [
            "Namespace(activation='relu', actnn=False, checkpoint_path='./checkpoints/model.pt', cpu=False, cpu_inference=False, dataset=['cora'], devices=[0], distributed=False, dropout=0.5, dw='node_classification_dw', epochs=500, eval_step=1, hidden_size=64, load_emb_path=None, local_rank=0, log_path='.', logger=None, lr=0.01, master_addr='localhost', master_port=13425, max_epoch=None, model=['gcn'], mw='node_classification_mw', n_trials=3, n_warmup_steps=0, no_test=False, norm=None, nstage=1, num_classes=None, num_features=None, num_layers=2, patience=100, progress_bar='epoch', project='cogdl-exp', residual=False, resume_training=False, rp_ratio=1, save_emb_path=None, search_space=<function search_space at 0x7f58ec48fdd0>, seed=[1, 2], split=[0], unsup=False, use_best_config=False, weight_decay=0)\n",
            "{'lr': 0.001, 'hidden_size': 64, 'dropout': 0.7053281088699626}\n",
            " \n",
            "|----------------------------------------------------------------------------------------|\n",
            "    *** Running (`cora`, `gcn`, `node_classification_dw`, `node_classification_mw`)\n",
            "|----------------------------------------------------------------------------------------|\n",
            "Model Parameters: 92231\n"
          ]
        },
        {
          "name": "stderr",
          "output_type": "stream",
          "text": [
            "Epoch: 499, train_loss:  0.1821, val_acc:  0.7860: 100%|██████████| 500/500 [00:03<00:00, 154.53it/s]\n"
          ]
        },
        {
          "name": "stdout",
          "output_type": "stream",
          "text": [
            "Saving 452-th model to ./checkpoints/model.pt ...\n",
            "Loading model from ./checkpoints/model.pt ...\n",
            "{'test_acc': 0.813, 'val_acc': 0.79}\n",
            " \n",
            "|----------------------------------------------------------------------------------------|\n",
            "    *** Running (`cora`, `gcn`, `node_classification_dw`, `node_classification_mw`)\n",
            "|----------------------------------------------------------------------------------------|\n",
            "Model Parameters: 92231\n"
          ]
        },
        {
          "name": "stderr",
          "output_type": "stream",
          "text": [
            "Epoch: 402, train_loss:  0.2834, val_acc:  0.7840:  81%|████████  | 403/500 [00:02<00:00, 152.21it/s]\n",
            "\u001b[32m[I 2021-11-20 22:49:06,293]\u001b[0m Trial 0 finished with value: 0.792 and parameters: {'lr': 0.001, 'hidden_size': 64, 'dropout': 0.7053281088699626}. Best is trial 0 with value: 0.792.\u001b[0m\n"
          ]
        },
        {
          "name": "stdout",
          "output_type": "stream",
          "text": [
            "Saving 303-th model to ./checkpoints/model.pt ...\n",
            "Loading model from ./checkpoints/model.pt ...\n",
            "{'test_acc': 0.812, 'val_acc': 0.794}\n",
            "| Variant         | test_acc      | val_acc       |\n",
            "|-----------------|---------------|---------------|\n",
            "| ('cora', 'gcn') | 0.8125±0.0005 | 0.7920±0.0020 |\n",
            "{'lr': 0.005, 'hidden_size': 128, 'dropout': 0.7457077778269245}\n",
            " \n",
            "|----------------------------------------------------------------------------------------|\n",
            "    *** Running (`cora`, `gcn`, `node_classification_dw`, `node_classification_mw`)\n",
            "|----------------------------------------------------------------------------------------|\n",
            "Model Parameters: 184455\n"
          ]
        },
        {
          "name": "stderr",
          "output_type": "stream",
          "text": [
            "Epoch: 436, train_loss:  0.0047, val_acc:  0.7900:  87%|████████▋ | 437/500 [00:02<00:00, 164.92it/s]\n"
          ]
        },
        {
          "name": "stdout",
          "output_type": "stream",
          "text": [
            "Saving 337-th model to ./checkpoints/model.pt ...\n",
            "Loading model from ./checkpoints/model.pt ...\n",
            "{'test_acc': 0.8, 'val_acc': 0.796}\n",
            " \n",
            "|----------------------------------------------------------------------------------------|\n",
            "    *** Running (`cora`, `gcn`, `node_classification_dw`, `node_classification_mw`)\n",
            "|----------------------------------------------------------------------------------------|\n",
            "Model Parameters: 184455\n"
          ]
        },
        {
          "name": "stderr",
          "output_type": "stream",
          "text": [
            "Epoch: 221, train_loss:  0.0144, val_acc:  0.7880:  44%|████▍     | 222/500 [00:01<00:01, 164.91it/s]\n",
            "\u001b[32m[I 2021-11-20 22:49:10,357]\u001b[0m Trial 1 finished with value: 0.795 and parameters: {'lr': 0.005, 'hidden_size': 128, 'dropout': 0.7457077778269245}. Best is trial 1 with value: 0.795.\u001b[0m\n"
          ]
        },
        {
          "name": "stdout",
          "output_type": "stream",
          "text": [
            "Saving 122-th model to ./checkpoints/model.pt ...\n",
            "Loading model from ./checkpoints/model.pt ...\n",
            "{'test_acc': 0.807, 'val_acc': 0.794}\n",
            "| Variant         | test_acc      | val_acc       |\n",
            "|-----------------|---------------|---------------|\n",
            "| ('cora', 'gcn') | 0.8035±0.0035 | 0.7950±0.0010 |\n",
            "{'lr': 0.01, 'hidden_size': 32, 'dropout': 0.7366976302737803}\n",
            " \n",
            "|----------------------------------------------------------------------------------------|\n",
            "    *** Running (`cora`, `gcn`, `node_classification_dw`, `node_classification_mw`)\n",
            "|----------------------------------------------------------------------------------------|\n",
            "Model Parameters: 46119\n"
          ]
        },
        {
          "name": "stderr",
          "output_type": "stream",
          "text": [
            "Epoch: 222, train_loss:  0.0549, val_acc:  0.7860:  45%|████▍     | 223/500 [00:01<00:01, 152.79it/s]\n"
          ]
        },
        {
          "name": "stdout",
          "output_type": "stream",
          "text": [
            "Saving 123-th model to ./checkpoints/model.pt ...\n",
            "Loading model from ./checkpoints/model.pt ...\n",
            "{'test_acc': 0.817, 'val_acc': 0.796}\n",
            " \n",
            "|----------------------------------------------------------------------------------------|\n",
            "    *** Running (`cora`, `gcn`, `node_classification_dw`, `node_classification_mw`)\n",
            "|----------------------------------------------------------------------------------------|\n",
            "Model Parameters: 46119\n"
          ]
        },
        {
          "name": "stderr",
          "output_type": "stream",
          "text": [
            "Epoch: 214, train_loss:  0.0458, val_acc:  0.7760:  43%|████▎     | 215/500 [00:01<00:01, 152.77it/s]\n",
            "\u001b[32m[I 2021-11-20 22:49:13,296]\u001b[0m Trial 2 finished with value: 0.797 and parameters: {'lr': 0.01, 'hidden_size': 32, 'dropout': 0.7366976302737803}. Best is trial 2 with value: 0.797.\u001b[0m\n"
          ]
        },
        {
          "name": "stdout",
          "output_type": "stream",
          "text": [
            "Saving 115-th model to ./checkpoints/model.pt ...\n",
            "Loading model from ./checkpoints/model.pt ...\n",
            "{'test_acc': 0.804, 'val_acc': 0.798}\n",
            "| Variant         | test_acc      | val_acc       |\n",
            "|-----------------|---------------|---------------|\n",
            "| ('cora', 'gcn') | 0.8105±0.0065 | 0.7970±0.0010 |\n",
            "{'lr': 0.01, 'hidden_size': 32, 'dropout': 0.7366976302737803}\n",
            "\n",
            "Final results:\n",
            "\n",
            "| Variant         | test_acc      | val_acc       |\n",
            "|-----------------|---------------|---------------|\n",
            "| ('cora', 'gcn') | 0.8105±0.0065 | 0.7970±0.0010 |\n"
          ]
        },
        {
          "data": {
            "text/plain": [
              "defaultdict(list,\n",
              "            {('cora', 'gcn'): [{'test_acc': 0.817, 'val_acc': 0.796},\n",
              "              {'test_acc': 0.804, 'val_acc': 0.798}]})"
            ]
          },
          "execution_count": 3,
          "metadata": {},
          "output_type": "execute_result"
        }
      ],
      "source": [
        "# automl usage\n",
        "def search_space(trial):\n",
        "    return {\n",
        "        \"lr\": trial.suggest_categorical(\"lr\", [1e-3, 5e-3, 1e-2]),\n",
        "        \"hidden_size\": trial.suggest_categorical(\"hidden_size\", [32, 64, 128]),\n",
        "        \"dropout\": trial.suggest_uniform(\"dropout\", 0.5, 0.8),\n",
        "    }\n",
        "\n",
        "experiment(dataset=\"cora\", model=\"gcn\", seed=[1, 2], search_space=search_space)"
      ]
    }
  ],
  "metadata": {
    "accelerator": "GPU",
    "colab": {
      "name": "quickstart-cogdl.ipynb",
      "provenance": []
    },
    "kernelspec": {
      "display_name": "Python 3",
      "name": "python3"
    },
    "language_info": {
      "codemirror_mode": {
        "name": "ipython",
        "version": 3
      },
      "file_extension": ".py",
      "mimetype": "text/x-python",
      "name": "python",
      "nbconvert_exporter": "python",
      "pygments_lexer": "ipython3",
      "version": "3.7.10"
    }
  },
  "nbformat": 4,
  "nbformat_minor": 0
}
