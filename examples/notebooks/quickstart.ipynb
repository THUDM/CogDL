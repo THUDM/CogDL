{
  "nbformat": 4,
  "nbformat_minor": 0,
  "metadata": {
    "colab": {
      "name": "quickstart-cogdl.ipynb",
      "provenance": []
    },
    "kernelspec": {
      "name": "python3",
      "display_name": "Python 3"
    },
    "accelerator": "GPU"
  },
  "cells": [
    {
      "cell_type": "markdown",
      "metadata": {
        "id": "gHoQThpObPSq"
      },
      "source": [
        "**CogDL Colab**\n",
        "created by CogDL Team\n",
        "[cogdlteam@gmail.com]\n",
        "\n",
        "This colab shows the basic usages of CogDL.\n",
        "\n",
        "References: https://github.com/THUDM/CogDL\n"
      ]
    },
    {
      "cell_type": "code",
      "metadata": {
        "id": "YOjTWjGz9CZo",
        "colab": {
          "base_uri": "https://localhost:8080/"
        },
        "outputId": "a78c7d89-9dfd-4146-a0f8-ad6dd1139f53"
      },
      "source": [
        "#@title see gpu card\n",
        "\n",
        "!nvcc -V\n",
        "!nvidia-smi\n"
      ],
      "execution_count": 1,
      "outputs": [
        {
          "output_type": "stream",
          "text": [
            "nvcc: NVIDIA (R) Cuda compiler driver\n",
            "Copyright (c) 2005-2020 NVIDIA Corporation\n",
            "Built on Wed_Jul_22_19:09:09_PDT_2020\n",
            "Cuda compilation tools, release 11.0, V11.0.221\n",
            "Build cuda_11.0_bu.TC445_37.28845127_0\n",
            "Mon Jul 12 13:46:17 2021       \n",
            "+-----------------------------------------------------------------------------+\n",
            "| NVIDIA-SMI 470.42.01    Driver Version: 460.32.03    CUDA Version: 11.2     |\n",
            "|-------------------------------+----------------------+----------------------+\n",
            "| GPU  Name        Persistence-M| Bus-Id        Disp.A | Volatile Uncorr. ECC |\n",
            "| Fan  Temp  Perf  Pwr:Usage/Cap|         Memory-Usage | GPU-Util  Compute M. |\n",
            "|                               |                      |               MIG M. |\n",
            "|===============================+======================+======================|\n",
            "|   0  Tesla T4            Off  | 00000000:00:04.0 Off |                    0 |\n",
            "| N/A   66C    P8    11W /  70W |      0MiB / 15109MiB |      0%      Default |\n",
            "|                               |                      |                  N/A |\n",
            "+-------------------------------+----------------------+----------------------+\n",
            "                                                                               \n",
            "+-----------------------------------------------------------------------------+\n",
            "| Processes:                                                                  |\n",
            "|  GPU   GI   CI        PID   Type   Process name                  GPU Memory |\n",
            "|        ID   ID                                                   Usage      |\n",
            "|=============================================================================|\n",
            "|  No running processes found                                                 |\n",
            "+-----------------------------------------------------------------------------+\n"
          ],
          "name": "stdout"
        }
      ]
    },
    {
      "cell_type": "code",
      "metadata": {
        "id": "iBGhvG4U9JBm",
        "colab": {
          "base_uri": "https://localhost:8080/"
        },
        "outputId": "bfb71b05-d057-418c-c61e-507e50de06de"
      },
      "source": [
        "#@title install cogdl via pip\n",
        "\n",
        "!pip install cogdl"
      ],
      "execution_count": 2,
      "outputs": [
        {
          "output_type": "stream",
          "text": [
            "Collecting cogdl\n",
            "\u001b[?25l  Downloading https://files.pythonhosted.org/packages/3e/c3/5590b87e06183fc85f7aad129b30c8ed4c0a0cca04857a9c2878686a804f/cogdl-0.4.0-py3-none-any.whl (324kB)\n",
            "\r\u001b[K     |█                               | 10kB 13.7MB/s eta 0:00:01\r\u001b[K     |██                              | 20kB 19.6MB/s eta 0:00:01\r\u001b[K     |███                             | 30kB 16.3MB/s eta 0:00:01\r\u001b[K     |████                            | 40kB 14.7MB/s eta 0:00:01\r\u001b[K     |█████                           | 51kB 8.6MB/s eta 0:00:01\r\u001b[K     |██████                          | 61kB 8.3MB/s eta 0:00:01\r\u001b[K     |███████                         | 71kB 9.3MB/s eta 0:00:01\r\u001b[K     |████████                        | 81kB 9.7MB/s eta 0:00:01\r\u001b[K     |█████████                       | 92kB 9.9MB/s eta 0:00:01\r\u001b[K     |██████████                      | 102kB 8.2MB/s eta 0:00:01\r\u001b[K     |███████████                     | 112kB 8.2MB/s eta 0:00:01\r\u001b[K     |████████████                    | 122kB 8.2MB/s eta 0:00:01\r\u001b[K     |█████████████▏                  | 133kB 8.2MB/s eta 0:00:01\r\u001b[K     |██████████████▏                 | 143kB 8.2MB/s eta 0:00:01\r\u001b[K     |███████████████▏                | 153kB 8.2MB/s eta 0:00:01\r\u001b[K     |████████████████▏               | 163kB 8.2MB/s eta 0:00:01\r\u001b[K     |█████████████████▏              | 174kB 8.2MB/s eta 0:00:01\r\u001b[K     |██████████████████▏             | 184kB 8.2MB/s eta 0:00:01\r\u001b[K     |███████████████████▏            | 194kB 8.2MB/s eta 0:00:01\r\u001b[K     |████████████████████▏           | 204kB 8.2MB/s eta 0:00:01\r\u001b[K     |█████████████████████▏          | 215kB 8.2MB/s eta 0:00:01\r\u001b[K     |██████████████████████▏         | 225kB 8.2MB/s eta 0:00:01\r\u001b[K     |███████████████████████▏        | 235kB 8.2MB/s eta 0:00:01\r\u001b[K     |████████████████████████▏       | 245kB 8.2MB/s eta 0:00:01\r\u001b[K     |█████████████████████████▎      | 256kB 8.2MB/s eta 0:00:01\r\u001b[K     |██████████████████████████▎     | 266kB 8.2MB/s eta 0:00:01\r\u001b[K     |███████████████████████████▎    | 276kB 8.2MB/s eta 0:00:01\r\u001b[K     |████████████████████████████▎   | 286kB 8.2MB/s eta 0:00:01\r\u001b[K     |█████████████████████████████▎  | 296kB 8.2MB/s eta 0:00:01\r\u001b[K     |██████████████████████████████▎ | 307kB 8.2MB/s eta 0:00:01\r\u001b[K     |███████████████████████████████▎| 317kB 8.2MB/s eta 0:00:01\r\u001b[K     |████████████████████████████████| 327kB 8.2MB/s \n",
            "\u001b[?25hCollecting grave\n",
            "  Downloading https://files.pythonhosted.org/packages/76/c4/930f7392dec82b39793d6f598cd151cc965ac59f87d87340a15379693700/grave-0.0.3-py3-none-any.whl\n",
            "Requirement already satisfied: tabulate in /usr/local/lib/python3.7/dist-packages (from cogdl) (0.8.9)\n",
            "Collecting pre-commit\n",
            "\u001b[?25l  Downloading https://files.pythonhosted.org/packages/b2/38/3e5475cbd6921cd8208a06c113384a88bb19ce0cda1155f33d4f19183de1/pre_commit-2.13.0-py2.py3-none-any.whl (190kB)\n",
            "\u001b[K     |████████████████████████████████| 194kB 35.5MB/s \n",
            "\u001b[?25hCollecting optuna==2.4.0\n",
            "\u001b[?25l  Downloading https://files.pythonhosted.org/packages/59/b4/a1a80252cef3d8f5a0acdf6e678d6dc07e2e6964ee46d0453a2ae1af1ecb/optuna-2.4.0-py3-none-any.whl (282kB)\n",
            "\u001b[K     |████████████████████████████████| 286kB 32.0MB/s \n",
            "\u001b[?25hRequirement already satisfied: torch in /usr/local/lib/python3.7/dist-packages (from cogdl) (1.9.0+cu102)\n",
            "Collecting flake8\n",
            "\u001b[?25l  Downloading https://files.pythonhosted.org/packages/fc/80/35a0716e5d5101e643404dabd20f07f5528a21f3ef4032d31a49c913237b/flake8-3.9.2-py2.py3-none-any.whl (73kB)\n",
            "\u001b[K     |████████████████████████████████| 81kB 11.7MB/s \n",
            "\u001b[?25hRequirement already satisfied: tqdm in /usr/local/lib/python3.7/dist-packages (from cogdl) (4.41.1)\n",
            "Collecting ogb\n",
            "\u001b[?25l  Downloading https://files.pythonhosted.org/packages/d2/c5/20b1e4a5ff90ead06139ce1c2362474b97bb3a73ee0166eb37f2d3eb0dba/ogb-1.3.1-py3-none-any.whl (67kB)\n",
            "\u001b[K     |████████████████████████████████| 71kB 10.3MB/s \n",
            "\u001b[?25hRequirement already satisfied: numba in /usr/local/lib/python3.7/dist-packages (from cogdl) (0.51.2)\n",
            "Collecting sentencepiece\n",
            "\u001b[?25l  Downloading https://files.pythonhosted.org/packages/ac/aa/1437691b0c7c83086ebb79ce2da16e00bef024f24fec2a5161c35476f499/sentencepiece-0.1.96-cp37-cp37m-manylinux_2_17_x86_64.manylinux2014_x86_64.whl (1.2MB)\n",
            "\u001b[K     |████████████████████████████████| 1.2MB 33.6MB/s \n",
            "\u001b[?25hRequirement already satisfied: networkx in /usr/local/lib/python3.7/dist-packages (from cogdl) (2.5.1)\n",
            "Collecting texttable\n",
            "  Downloading https://files.pythonhosted.org/packages/06/f5/46201c428aebe0eecfa83df66bf3e6caa29659dbac5a56ddfd83cae0d4a4/texttable-1.6.3-py2.py3-none-any.whl\n",
            "Collecting emoji\n",
            "\u001b[?25l  Downloading https://files.pythonhosted.org/packages/24/fa/b3368f41b95a286f8d300e323449ab4e86b85334c2e0b477e94422b8ed0f/emoji-1.2.0-py3-none-any.whl (131kB)\n",
            "\u001b[K     |████████████████████████████████| 133kB 53.2MB/s \n",
            "\u001b[?25hRequirement already satisfied: scikit-learn in /usr/local/lib/python3.7/dist-packages (from cogdl) (0.22.2.post1)\n",
            "Requirement already satisfied: scipy in /usr/local/lib/python3.7/dist-packages (from cogdl) (1.4.1)\n",
            "Requirement already satisfied: numpy in /usr/local/lib/python3.7/dist-packages (from cogdl) (1.19.5)\n",
            "Requirement already satisfied: gensim<4.0 in /usr/local/lib/python3.7/dist-packages (from cogdl) (3.6.0)\n",
            "Requirement already satisfied: matplotlib in /usr/local/lib/python3.7/dist-packages (from cogdl) (3.2.2)\n",
            "Collecting transformers\n",
            "\u001b[?25l  Downloading https://files.pythonhosted.org/packages/fd/1a/41c644c963249fd7f3836d926afa1e3f1cc234a1c40d80c5f03ad8f6f1b2/transformers-4.8.2-py3-none-any.whl (2.5MB)\n",
            "\u001b[K     |████████████████████████████████| 2.5MB 49.4MB/s \n",
            "\u001b[?25hCollecting pyyaml>=5.1\n",
            "\u001b[?25l  Downloading https://files.pythonhosted.org/packages/7a/a5/393c087efdc78091afa2af9f1378762f9821c9c1d7a22c5753fb5ac5f97a/PyYAML-5.4.1-cp37-cp37m-manylinux1_x86_64.whl (636kB)\n",
            "\u001b[K     |████████████████████████████████| 645kB 54.0MB/s \n",
            "\u001b[?25hCollecting cfgv>=2.0.0\n",
            "  Downloading https://files.pythonhosted.org/packages/49/54/83bf9b6ba673bf7d5ebe3846a5f6d3a53925cfd331aa29ec6b5b9c42a850/cfgv-3.3.0-py2.py3-none-any.whl\n",
            "Requirement already satisfied: importlib-metadata; python_version < \"3.8\" in /usr/local/lib/python3.7/dist-packages (from pre-commit->cogdl) (4.6.0)\n",
            "Collecting nodeenv>=0.11.1\n",
            "  Downloading https://files.pythonhosted.org/packages/54/73/56c89b343befb9c63e8117294d265458f0ff726fa2abcdc6bb5ec5e66a1a/nodeenv-1.6.0-py2.py3-none-any.whl\n",
            "Collecting identify>=1.0.0\n",
            "\u001b[?25l  Downloading https://files.pythonhosted.org/packages/c7/b7/0f4009c9e23f7017be400e06dc0251671d64ba4fddaab82c98210d649a15/identify-2.2.11-py2.py3-none-any.whl (98kB)\n",
            "\u001b[K     |████████████████████████████████| 102kB 14.7MB/s \n",
            "\u001b[?25hCollecting virtualenv>=20.0.8\n",
            "\u001b[?25l  Downloading https://files.pythonhosted.org/packages/03/08/f819421002e85a71d58368f7bffbe0b1921325e0e8ca7857cb5fb0e1f7c1/virtualenv-20.4.7-py2.py3-none-any.whl (7.2MB)\n",
            "\u001b[K     |████████████████████████████████| 7.2MB 51.2MB/s \n",
            "\u001b[?25hRequirement already satisfied: toml in /usr/local/lib/python3.7/dist-packages (from pre-commit->cogdl) (0.10.2)\n",
            "Collecting cmaes>=0.6.0\n",
            "  Downloading https://files.pythonhosted.org/packages/01/1f/43b01223a0366171f474320c6e966c39a11587287f098a5f09809b45e05f/cmaes-0.8.2-py3-none-any.whl\n",
            "Collecting cliff\n",
            "\u001b[?25l  Downloading https://files.pythonhosted.org/packages/87/11/aea1cacbd4cf8262809c4d6f95dcb3f2802594de1f51c5bd454d69bf15c5/cliff-3.8.0-py3-none-any.whl (80kB)\n",
            "\u001b[K     |████████████████████████████████| 81kB 12.9MB/s \n",
            "\u001b[?25hCollecting colorlog\n",
            "  Downloading https://files.pythonhosted.org/packages/32/e6/e9ddc6fa1104fda718338b341e4b3dc31cd8039ab29e52fc73b508515361/colorlog-5.0.1-py2.py3-none-any.whl\n",
            "Requirement already satisfied: sqlalchemy>=1.1.0 in /usr/local/lib/python3.7/dist-packages (from optuna==2.4.0->cogdl) (1.4.20)\n",
            "Requirement already satisfied: joblib in /usr/local/lib/python3.7/dist-packages (from optuna==2.4.0->cogdl) (1.0.1)\n",
            "Collecting alembic\n",
            "\u001b[?25l  Downloading https://files.pythonhosted.org/packages/d5/80/ef186e599a57d0e4cb78fc76e0bfc2e6953fa9716b2a5cf2de0117ed8eb5/alembic-1.6.5-py2.py3-none-any.whl (164kB)\n",
            "\u001b[K     |████████████████████████████████| 174kB 58.4MB/s \n",
            "\u001b[?25hRequirement already satisfied: packaging>=20.0 in /usr/local/lib/python3.7/dist-packages (from optuna==2.4.0->cogdl) (20.9)\n",
            "Requirement already satisfied: typing-extensions in /usr/local/lib/python3.7/dist-packages (from torch->cogdl) (3.7.4.3)\n",
            "Collecting pyflakes<2.4.0,>=2.3.0\n",
            "\u001b[?25l  Downloading https://files.pythonhosted.org/packages/6c/11/2a745612f1d3cbbd9c69ba14b1b43a35a2f5c3c81cd0124508c52c64307f/pyflakes-2.3.1-py2.py3-none-any.whl (68kB)\n",
            "\u001b[K     |████████████████████████████████| 71kB 11.6MB/s \n",
            "\u001b[?25hCollecting mccabe<0.7.0,>=0.6.0\n",
            "  Downloading https://files.pythonhosted.org/packages/87/89/479dc97e18549e21354893e4ee4ef36db1d237534982482c3681ee6e7b57/mccabe-0.6.1-py2.py3-none-any.whl\n",
            "Collecting pycodestyle<2.8.0,>=2.7.0\n",
            "\u001b[?25l  Downloading https://files.pythonhosted.org/packages/de/cc/227251b1471f129bc35e966bb0fceb005969023926d744139642d847b7ae/pycodestyle-2.7.0-py2.py3-none-any.whl (41kB)\n",
            "\u001b[K     |████████████████████████████████| 51kB 9.3MB/s \n",
            "\u001b[?25hRequirement already satisfied: pandas>=0.24.0 in /usr/local/lib/python3.7/dist-packages (from ogb->cogdl) (1.1.5)\n",
            "Requirement already satisfied: urllib3>=1.24.0 in /usr/local/lib/python3.7/dist-packages (from ogb->cogdl) (1.24.3)\n",
            "Collecting outdated>=0.2.0\n",
            "  Downloading https://files.pythonhosted.org/packages/fd/f6/95588d496e518355c33b389222c99069b1c6f2c046be64f400072fdc7cda/outdated-0.2.1-py3-none-any.whl\n",
            "Requirement already satisfied: six>=1.12.0 in /usr/local/lib/python3.7/dist-packages (from ogb->cogdl) (1.15.0)\n",
            "Requirement already satisfied: setuptools in /usr/local/lib/python3.7/dist-packages (from numba->cogdl) (57.0.0)\n",
            "Requirement already satisfied: llvmlite<0.35,>=0.34.0.dev0 in /usr/local/lib/python3.7/dist-packages (from numba->cogdl) (0.34.0)\n",
            "Requirement already satisfied: decorator<5,>=4.3 in /usr/local/lib/python3.7/dist-packages (from networkx->cogdl) (4.4.2)\n",
            "Requirement already satisfied: smart-open>=1.2.1 in /usr/local/lib/python3.7/dist-packages (from gensim<4.0->cogdl) (5.1.0)\n",
            "Requirement already satisfied: kiwisolver>=1.0.1 in /usr/local/lib/python3.7/dist-packages (from matplotlib->cogdl) (1.3.1)\n",
            "Requirement already satisfied: python-dateutil>=2.1 in /usr/local/lib/python3.7/dist-packages (from matplotlib->cogdl) (2.8.1)\n",
            "Requirement already satisfied: cycler>=0.10 in /usr/local/lib/python3.7/dist-packages (from matplotlib->cogdl) (0.10.0)\n",
            "Requirement already satisfied: pyparsing!=2.0.4,!=2.1.2,!=2.1.6,>=2.0.1 in /usr/local/lib/python3.7/dist-packages (from matplotlib->cogdl) (2.4.7)\n",
            "Collecting tokenizers<0.11,>=0.10.1\n",
            "\u001b[?25l  Downloading https://files.pythonhosted.org/packages/d4/e2/df3543e8ffdab68f5acc73f613de9c2b155ac47f162e725dcac87c521c11/tokenizers-0.10.3-cp37-cp37m-manylinux_2_5_x86_64.manylinux1_x86_64.manylinux_2_12_x86_64.manylinux2010_x86_64.whl (3.3MB)\n",
            "\u001b[K     |████████████████████████████████| 3.3MB 40.5MB/s \n",
            "\u001b[?25hCollecting sacremoses\n",
            "\u001b[?25l  Downloading https://files.pythonhosted.org/packages/75/ee/67241dc87f266093c533a2d4d3d69438e57d7a90abb216fa076e7d475d4a/sacremoses-0.0.45-py3-none-any.whl (895kB)\n",
            "\u001b[K     |████████████████████████████████| 901kB 35.9MB/s \n",
            "\u001b[?25hRequirement already satisfied: requests in /usr/local/lib/python3.7/dist-packages (from transformers->cogdl) (2.23.0)\n",
            "Requirement already satisfied: regex!=2019.12.17 in /usr/local/lib/python3.7/dist-packages (from transformers->cogdl) (2019.12.20)\n",
            "Requirement already satisfied: filelock in /usr/local/lib/python3.7/dist-packages (from transformers->cogdl) (3.0.12)\n",
            "Collecting huggingface-hub==0.0.12\n",
            "  Downloading https://files.pythonhosted.org/packages/2f/ee/97e253668fda9b17e968b3f97b2f8e53aa0127e8807d24a547687423fe0b/huggingface_hub-0.0.12-py3-none-any.whl\n",
            "Requirement already satisfied: zipp>=0.5 in /usr/local/lib/python3.7/dist-packages (from importlib-metadata; python_version < \"3.8\"->pre-commit->cogdl) (3.4.1)\n",
            "Collecting distlib<1,>=0.3.1\n",
            "\u001b[?25l  Downloading https://files.pythonhosted.org/packages/87/26/f6a23dd3e578132cf924e0dd5d4e055af0cd4ab43e2a9f10b7568bfb39d9/distlib-0.3.2-py2.py3-none-any.whl (338kB)\n",
            "\u001b[K     |████████████████████████████████| 348kB 50.7MB/s \n",
            "\u001b[?25hRequirement already satisfied: appdirs<2,>=1.4.3 in /usr/local/lib/python3.7/dist-packages (from virtualenv>=20.0.8->pre-commit->cogdl) (1.4.4)\n",
            "Collecting cmd2>=1.0.0\n",
            "\u001b[?25l  Downloading https://files.pythonhosted.org/packages/44/ca/d407811641ec1d8bd8a38ee3165d73aa44776d7700436bd4d4a6606f2736/cmd2-2.1.2-py3-none-any.whl (141kB)\n",
            "\u001b[K     |████████████████████████████████| 143kB 57.0MB/s \n",
            "\u001b[?25hCollecting pbr!=2.1.0,>=2.0.0\n",
            "\u001b[?25l  Downloading https://files.pythonhosted.org/packages/18/e0/1d4702dd81121d04a477c272d47ee5b6bc970d1a0990b11befa275c55cf2/pbr-5.6.0-py2.py3-none-any.whl (111kB)\n",
            "\u001b[K     |████████████████████████████████| 112kB 61.2MB/s \n",
            "\u001b[?25hCollecting stevedore>=2.0.1\n",
            "\u001b[?25l  Downloading https://files.pythonhosted.org/packages/d4/49/b602307aeac3df3384ff1fcd05da9c0376c622a6c48bb5325f28ab165b57/stevedore-3.3.0-py3-none-any.whl (49kB)\n",
            "\u001b[K     |████████████████████████████████| 51kB 9.4MB/s \n",
            "\u001b[?25hRequirement already satisfied: PrettyTable>=0.7.2 in /usr/local/lib/python3.7/dist-packages (from cliff->optuna==2.4.0->cogdl) (2.1.0)\n",
            "Requirement already satisfied: greenlet!=0.4.17; python_version >= \"3\" in /usr/local/lib/python3.7/dist-packages (from sqlalchemy>=1.1.0->optuna==2.4.0->cogdl) (1.1.0)\n",
            "Collecting python-editor>=0.3\n",
            "  Downloading https://files.pythonhosted.org/packages/c6/d3/201fc3abe391bbae6606e6f1d598c15d367033332bd54352b12f35513717/python_editor-1.0.4-py3-none-any.whl\n",
            "Collecting Mako\n",
            "\u001b[?25l  Downloading https://files.pythonhosted.org/packages/f3/54/dbc07fbb20865d3b78fdb7cf7fa713e2cba4f87f71100074ef2dc9f9d1f7/Mako-1.1.4-py2.py3-none-any.whl (75kB)\n",
            "\u001b[K     |████████████████████████████████| 81kB 12.5MB/s \n",
            "\u001b[?25hRequirement already satisfied: pytz>=2017.2 in /usr/local/lib/python3.7/dist-packages (from pandas>=0.24.0->ogb->cogdl) (2018.9)\n",
            "Collecting littleutils\n",
            "  Downloading https://files.pythonhosted.org/packages/4e/b1/bb4e06f010947d67349f863b6a2ad71577f85590180a935f60543f622652/littleutils-0.2.2.tar.gz\n",
            "Requirement already satisfied: click in /usr/local/lib/python3.7/dist-packages (from sacremoses->transformers->cogdl) (7.1.2)\n",
            "Requirement already satisfied: chardet<4,>=3.0.2 in /usr/local/lib/python3.7/dist-packages (from requests->transformers->cogdl) (3.0.4)\n",
            "Requirement already satisfied: certifi>=2017.4.17 in /usr/local/lib/python3.7/dist-packages (from requests->transformers->cogdl) (2021.5.30)\n",
            "Requirement already satisfied: idna<3,>=2.5 in /usr/local/lib/python3.7/dist-packages (from requests->transformers->cogdl) (2.10)\n",
            "Collecting pyperclip>=1.6\n",
            "  Downloading https://files.pythonhosted.org/packages/a7/2c/4c64579f847bd5d539803c8b909e54ba087a79d01bb3aba433a95879a6c5/pyperclip-1.8.2.tar.gz\n",
            "Requirement already satisfied: wcwidth>=0.1.7 in /usr/local/lib/python3.7/dist-packages (from cmd2>=1.0.0->cliff->optuna==2.4.0->cogdl) (0.2.5)\n",
            "Requirement already satisfied: attrs>=16.3.0 in /usr/local/lib/python3.7/dist-packages (from cmd2>=1.0.0->cliff->optuna==2.4.0->cogdl) (21.2.0)\n",
            "Collecting colorama>=0.3.7\n",
            "  Downloading https://files.pythonhosted.org/packages/44/98/5b86278fbbf250d239ae0ecb724f8572af1c91f4a11edf4d36a206189440/colorama-0.4.4-py2.py3-none-any.whl\n",
            "Requirement already satisfied: MarkupSafe>=0.9.2 in /usr/local/lib/python3.7/dist-packages (from Mako->alembic->optuna==2.4.0->cogdl) (2.0.1)\n",
            "Building wheels for collected packages: littleutils, pyperclip\n",
            "  Building wheel for littleutils (setup.py) ... \u001b[?25l\u001b[?25hdone\n",
            "  Created wheel for littleutils: filename=littleutils-0.2.2-cp37-none-any.whl size=7050 sha256=e48bf89e06adb807a6e7ce06dfe43126822dd57078e780d45b9c460812275f27\n",
            "  Stored in directory: /root/.cache/pip/wheels/53/16/9f/ac67d15c40243754fd73f620e1b9b6dedc20492ecc19a2bae1\n",
            "  Building wheel for pyperclip (setup.py) ... \u001b[?25l\u001b[?25hdone\n",
            "  Created wheel for pyperclip: filename=pyperclip-1.8.2-cp37-none-any.whl size=11136 sha256=32ada558a3e9bde50292b0b2ba91b2f4319fa5bcb850ad73d2c7a2e52ecb8ede\n",
            "  Stored in directory: /root/.cache/pip/wheels/25/af/b8/3407109267803f4015e1ee2ff23be0c8c19ce4008665931ee1\n",
            "Successfully built littleutils pyperclip\n",
            "Installing collected packages: grave, pyyaml, cfgv, nodeenv, identify, distlib, virtualenv, pre-commit, cmaes, pyperclip, colorama, cmd2, pbr, stevedore, cliff, colorlog, python-editor, Mako, alembic, optuna, pyflakes, mccabe, pycodestyle, flake8, littleutils, outdated, ogb, sentencepiece, texttable, emoji, tokenizers, sacremoses, huggingface-hub, transformers, cogdl\n",
            "  Found existing installation: PyYAML 3.13\n",
            "    Uninstalling PyYAML-3.13:\n",
            "      Successfully uninstalled PyYAML-3.13\n",
            "Successfully installed Mako-1.1.4 alembic-1.6.5 cfgv-3.3.0 cliff-3.8.0 cmaes-0.8.2 cmd2-2.1.2 cogdl-0.4.0 colorama-0.4.4 colorlog-5.0.1 distlib-0.3.2 emoji-1.2.0 flake8-3.9.2 grave-0.0.3 huggingface-hub-0.0.12 identify-2.2.11 littleutils-0.2.2 mccabe-0.6.1 nodeenv-1.6.0 ogb-1.3.1 optuna-2.4.0 outdated-0.2.1 pbr-5.6.0 pre-commit-2.13.0 pycodestyle-2.7.0 pyflakes-2.3.1 pyperclip-1.8.2 python-editor-1.0.4 pyyaml-5.4.1 sacremoses-0.0.45 sentencepiece-0.1.96 stevedore-3.3.0 texttable-1.6.3 tokenizers-0.10.3 transformers-4.8.2 virtualenv-20.4.7\n"
          ],
          "name": "stdout"
        }
      ]
    },
    {
      "cell_type": "code",
      "metadata": {
        "colab": {
          "base_uri": "https://localhost:8080/"
        },
        "id": "GOdtm6g_HgRx",
        "outputId": "49a43cfd-c69d-4b9b-ee66-ca403a96c254"
      },
      "source": [
        "from cogdl import experiment\n",
        "\n",
        "# basic usage\n",
        "experiment(task=\"node_classification\", dataset=\"cora\", model=\"gcn\")"
      ],
      "execution_count": 3,
      "outputs": [
        {
          "output_type": "stream",
          "text": [
            "Failed to load C version of sampling, use python version instead.\n",
            "Namespace(activation='relu', checkpoint=None, cpu=False, dataset='cora', device_id=[0], dropout=0.5, fast_spmm=False, hidden_size=64, inference=False, lr=0.01, max_epoch=500, missing_rate=0, model='gcn', norm=None, num_classes=None, num_features=None, num_layers=2, patience=100, residual=False, save_dir='.', save_model=None, seed=1, task='node_classification', trainer=None, use_best_config=False, weight_decay=0.0005)\n",
            "Downloading https://cloud.tsinghua.edu.cn/d/6808093f7f8042bfa1f0/files/?p=%2Fcora.zip&dl=1\n",
            "unpacking cora.zip\n",
            "Processing...\n",
            "Done!\n"
          ],
          "name": "stdout"
        },
        {
          "output_type": "stream",
          "text": [
            "Epoch: 455, Train: 1.0000, Val: 0.7920, ValLoss: 0.7300:  89%|████████▉ | 446/500 [00:03<00:00, 120.41it/s]"
          ],
          "name": "stderr"
        },
        {
          "output_type": "stream",
          "text": [
            "Valid accurracy =  0.7940\n",
            "Test accuracy = 0.8100\n",
            "| Variant         | Acc           | ValAcc        |\n",
            "|-----------------|---------------|---------------|\n",
            "| ('cora', 'gcn') | 0.8100±0.0000 | 0.7940±0.0000 |\n"
          ],
          "name": "stdout"
        },
        {
          "output_type": "stream",
          "text": [
            "\n"
          ],
          "name": "stderr"
        },
        {
          "output_type": "execute_result",
          "data": {
            "text/plain": [
              "defaultdict(list, {('cora', 'gcn'): [{'Acc': 0.81, 'ValAcc': 0.794}]})"
            ]
          },
          "metadata": {
            "tags": []
          },
          "execution_count": 3
        }
      ]
    },
    {
      "cell_type": "code",
      "metadata": {
        "colab": {
          "base_uri": "https://localhost:8080/"
        },
        "id": "0LJEBddNX9aA",
        "outputId": "a676c914-29f2-4896-a3f5-130819328699"
      },
      "source": [
        "# automl usage\n",
        "def func_search(trial):\n",
        "    return {\n",
        "        \"lr\": trial.suggest_categorical(\"lr\", [1e-3, 5e-3, 1e-2]),\n",
        "        \"hidden_size\": trial.suggest_categorical(\"hidden_size\", [32, 64, 128]),\n",
        "        \"dropout\": trial.suggest_uniform(\"dropout\", 0.5, 0.8),\n",
        "    }\n",
        "\n",
        "experiment(task=\"node_classification\", dataset=\"cora\", model=\"gcn\", seed=[1, 2], func_search=func_search)"
      ],
      "execution_count": 4,
      "outputs": [
        {
          "output_type": "stream",
          "text": [
            "\u001b[32m[I 2021-07-12 13:47:32,783]\u001b[0m A new study created in memory with name: no-name-5d047d75-cfbe-465b-bfc6-d5e01052dec9\u001b[0m\n",
            "Epoch: 022, Train: 0.8571, Val: 0.5780, ValLoss: 1.8665:   3%|▎         | 14/500 [00:00<00:03, 135.58it/s]"
          ],
          "name": "stderr"
        },
        {
          "output_type": "stream",
          "text": [
            "Namespace(activation='relu', checkpoint=None, cpu=False, dataset='cora', device_id=[0], dropout=0.7571220636246204, fast_spmm=False, func_search=<function func_search at 0x7f0bcbc44b00>, hidden_size=32, inference=False, lr=0.005, max_epoch=500, missing_rate=0, model='gcn', norm=None, num_classes=None, num_features=None, num_layers=2, patience=100, residual=False, save_dir='.', save_model=None, seed=1, task='node_classification', trainer=None, use_best_config=False, weight_decay=0.0005)\n"
          ],
          "name": "stdout"
        },
        {
          "output_type": "stream",
          "text": [
            "Epoch: 499, Train: 1.0000, Val: 0.7940, ValLoss: 0.7615: 100%|██████████| 500/500 [00:03<00:00, 133.73it/s]\n",
            "Epoch: 020, Train: 0.9429, Val: 0.7000, ValLoss: 1.8790:   3%|▎         | 13/500 [00:00<00:03, 123.07it/s]"
          ],
          "name": "stderr"
        },
        {
          "output_type": "stream",
          "text": [
            "Valid accurracy =  0.7820\n",
            "Test accuracy = 0.8110\n",
            "Namespace(activation='relu', checkpoint=None, cpu=False, dataset='cora', device_id=[0], dropout=0.7571220636246204, fast_spmm=False, func_search=<function func_search at 0x7f0bcbc44b00>, hidden_size=32, inference=False, lr=0.005, max_epoch=500, missing_rate=0, model='gcn', norm=None, num_classes=None, num_features=None, num_layers=2, patience=100, residual=False, save_dir='.', save_model=None, seed=2, task='node_classification', trainer=None, use_best_config=False, weight_decay=0.0005)\n"
          ],
          "name": "stdout"
        },
        {
          "output_type": "stream",
          "text": [
            "Epoch: 499, Train: 1.0000, Val: 0.7860, ValLoss: 0.7639: 100%|██████████| 500/500 [00:03<00:00, 132.70it/s]\n",
            "\u001b[32m[I 2021-07-12 13:47:40,393]\u001b[0m Trial 0 finished with value: 0.783 and parameters: {'lr': 0.005, 'hidden_size': 32, 'dropout': 0.7571220636246204}. Best is trial 0 with value: 0.783.\u001b[0m\n",
            "Epoch: 016, Train: 0.9714, Val: 0.7560, ValLoss: 1.8282:   2%|▏         | 12/500 [00:00<00:04, 118.41it/s]"
          ],
          "name": "stderr"
        },
        {
          "output_type": "stream",
          "text": [
            "Valid accurracy =  0.7840\n",
            "Test accuracy = 0.8090\n",
            "| Variant         | Acc           | ValAcc        |\n",
            "|-----------------|---------------|---------------|\n",
            "| ('cora', 'gcn') | 0.8100±0.0010 | 0.7830±0.0010 |\n",
            "Namespace(activation='relu', checkpoint=None, cpu=False, dataset='cora', device_id=[0], dropout=0.6352487471594475, fast_spmm=False, func_search=<function func_search at 0x7f0bcbc44b00>, hidden_size=64, inference=False, lr=0.005, max_epoch=500, missing_rate=0, model='gcn', norm=None, num_classes=None, num_features=None, num_layers=2, patience=100, residual=False, save_dir='.', save_model=None, seed=1, task='node_classification', trainer=None, use_best_config=False, weight_decay=0.0005)\n"
          ],
          "name": "stdout"
        },
        {
          "output_type": "stream",
          "text": [
            "Epoch: 499, Train: 1.0000, Val: 0.7960, ValLoss: 0.7289: 100%|██████████| 500/500 [00:03<00:00, 129.73it/s]\n",
            "Epoch: 020, Train: 0.9571, Val: 0.7680, ValLoss: 1.7769:   3%|▎         | 13/500 [00:00<00:04, 120.40it/s]"
          ],
          "name": "stderr"
        },
        {
          "output_type": "stream",
          "text": [
            "Valid accurracy =  0.7920\n",
            "Test accuracy = 0.8120\n",
            "Namespace(activation='relu', checkpoint=None, cpu=False, dataset='cora', device_id=[0], dropout=0.6352487471594475, fast_spmm=False, func_search=<function func_search at 0x7f0bcbc44b00>, hidden_size=64, inference=False, lr=0.005, max_epoch=500, missing_rate=0, model='gcn', norm=None, num_classes=None, num_features=None, num_layers=2, patience=100, residual=False, save_dir='.', save_model=None, seed=2, task='node_classification', trainer=None, use_best_config=False, weight_decay=0.0005)\n"
          ],
          "name": "stdout"
        },
        {
          "output_type": "stream",
          "text": [
            "Epoch: 499, Train: 1.0000, Val: 0.7880, ValLoss: 0.7334: 100%|██████████| 500/500 [00:03<00:00, 129.88it/s]\n",
            "\u001b[32m[I 2021-07-12 13:47:48,174]\u001b[0m Trial 1 finished with value: 0.795 and parameters: {'lr': 0.005, 'hidden_size': 64, 'dropout': 0.6352487471594475}. Best is trial 1 with value: 0.795.\u001b[0m\n",
            "Epoch: 017, Train: 0.8571, Val: 0.4840, ValLoss: 1.9058:   2%|▏         | 12/500 [00:00<00:04, 119.36it/s]"
          ],
          "name": "stderr"
        },
        {
          "output_type": "stream",
          "text": [
            "Valid accurracy =  0.7980\n",
            "Test accuracy = 0.8110\n",
            "| Variant         | Acc           | ValAcc        |\n",
            "|-----------------|---------------|---------------|\n",
            "| ('cora', 'gcn') | 0.8115±0.0005 | 0.7950±0.0030 |\n",
            "Namespace(activation='relu', checkpoint=None, cpu=False, dataset='cora', device_id=[0], dropout=0.5363238401043926, fast_spmm=False, func_search=<function func_search at 0x7f0bcbc44b00>, hidden_size=128, inference=False, lr=0.001, max_epoch=500, missing_rate=0, model='gcn', norm=None, num_classes=None, num_features=None, num_layers=2, patience=100, residual=False, save_dir='.', save_model=None, seed=1, task='node_classification', trainer=None, use_best_config=False, weight_decay=0.0005)\n"
          ],
          "name": "stdout"
        },
        {
          "output_type": "stream",
          "text": [
            "Epoch: 499, Train: 1.0000, Val: 0.7860, ValLoss: 0.8297: 100%|██████████| 500/500 [00:04<00:00, 119.69it/s]\n",
            "Epoch: 021, Train: 0.9357, Val: 0.6740, ValLoss: 1.8943:   3%|▎         | 13/500 [00:00<00:03, 126.40it/s]"
          ],
          "name": "stderr"
        },
        {
          "output_type": "stream",
          "text": [
            "Valid accurracy =  0.7860\n",
            "Test accuracy = 0.8140\n",
            "Namespace(activation='relu', checkpoint=None, cpu=False, dataset='cora', device_id=[0], dropout=0.5363238401043926, fast_spmm=False, func_search=<function func_search at 0x7f0bcbc44b00>, hidden_size=128, inference=False, lr=0.001, max_epoch=500, missing_rate=0, model='gcn', norm=None, num_classes=None, num_features=None, num_layers=2, patience=100, residual=False, save_dir='.', save_model=None, seed=2, task='node_classification', trainer=None, use_best_config=False, weight_decay=0.0005)\n"
          ],
          "name": "stdout"
        },
        {
          "output_type": "stream",
          "text": [
            "Epoch: 499, Train: 1.0000, Val: 0.7940, ValLoss: 0.8240: 100%|██████████| 500/500 [00:04<00:00, 120.83it/s]\n",
            "\u001b[32m[I 2021-07-12 13:47:56,568]\u001b[0m Trial 2 finished with value: 0.79 and parameters: {'lr': 0.001, 'hidden_size': 128, 'dropout': 0.5363238401043926}. Best is trial 1 with value: 0.795.\u001b[0m\n"
          ],
          "name": "stderr"
        },
        {
          "output_type": "stream",
          "text": [
            "Valid accurracy =  0.7940\n",
            "Test accuracy = 0.8190\n",
            "| Variant         | Acc           | ValAcc        |\n",
            "|-----------------|---------------|---------------|\n",
            "| ('cora', 'gcn') | 0.8165±0.0025 | 0.7900±0.0040 |\n",
            "{'lr': 0.005, 'hidden_size': 64, 'dropout': 0.6352487471594475}\n",
            "\n",
            "Final results:\n",
            "\n",
            "| Variant         | Acc           | ValAcc        |\n",
            "|-----------------|---------------|---------------|\n",
            "| ('cora', 'gcn') | 0.8115±0.0005 | 0.7950±0.0030 |\n"
          ],
          "name": "stdout"
        },
        {
          "output_type": "execute_result",
          "data": {
            "text/plain": [
              "defaultdict(list,\n",
              "            {('cora', 'gcn'): [{'Acc': 0.812, 'ValAcc': 0.792},\n",
              "              {'Acc': 0.811, 'ValAcc': 0.798}]})"
            ]
          },
          "metadata": {
            "tags": []
          },
          "execution_count": 4
        }
      ]
    }
  ]
}